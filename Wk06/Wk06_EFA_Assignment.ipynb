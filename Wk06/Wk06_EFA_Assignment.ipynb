{
  "nbformat": 4,
  "nbformat_minor": 0,
  "metadata": {
    "colab": {
      "provenance": []
    },
    "kernelspec": {
      "name": "ir",
      "display_name": "R"
    },
    "language_info": {
      "name": "R"
    }
  },
  "cells": [
    {
      "cell_type": "markdown",
      "source": [
        "# Exploratory Factor Analysis in R\n",
        "\n",
        "In this assignment, we are going to use a simulated dataset. It builds on the Google Colab demonstration and the HTML demonstration posted to Canvas. You will be asked to identify the number of latent factors, assess latent factor influences on items, and interpret the results as they relate to revising our scales and investigating the construct validity of our scales.\n",
        "\n",
        "## Learning objectives\n",
        "\n",
        "By the completion of this assignment, you should be able to:\n",
        "\n",
        "\n",
        "\n",
        "*   Identify and justify the number of latent factors in a dataset using scree plots and parallel analyses\n",
        "\n",
        "*   Conduct exploratory factor analysis on a dataset\n",
        "\n",
        "* Interpret factor loadings, including identifying weak items and cross-loadings\n",
        "\n",
        "* Evaluate the internal (latent factor) structure and construct validity of our assessments\n",
        "\n"
      ],
      "metadata": {
        "id": "mhvDLgNaIbKp"
      }
    },
    {
      "cell_type": "markdown",
      "source": [
        "## Load packages\n",
        "\n",
        "As usual, we will need to install the `psych` package then load the `psych` and `tidyverse` packages."
      ],
      "metadata": {
        "id": "O1Z7CMHEJbKo"
      }
    },
    {
      "cell_type": "code",
      "execution_count": null,
      "metadata": {
        "id": "bfs6QBi1ICxK"
      },
      "outputs": [],
      "source": [
        "## Install psych\n",
        "install.packages(\"psych\")"
      ]
    },
    {
      "cell_type": "code",
      "source": [
        "## Load packages\n",
        "library(tidyverse)\n",
        "library(psych)"
      ],
      "metadata": {
        "id": "jNRqo-PhJrue"
      },
      "execution_count": null,
      "outputs": []
    },
    {
      "cell_type": "markdown",
      "source": [
        "## Load the data\n",
        "\n",
        "These data were simulated. They include 100 responses (rows) to 10 items (columns). These data are continuous and close to *z*-scores (i.e., mean of 0, standard deviation ~1.0)."
      ],
      "metadata": {
        "id": "L_MhFLahJyUG"
      }
    },
    {
      "cell_type": "code",
      "source": [
        "## Load data\n",
        "## Set the URL to Casey's GitHub page where the dataset is located\n",
        "FileURL <- \"https://raw.githubusercontent.com/CaseyGio/Psyc6263/refs/heads/main/Datasets/EFA%20Assignment%20Data.csv\"\n",
        "\n",
        "## Read the csv file from GitHub and create a new object\n",
        "EFAData <- read_csv(url(FileURL)) %>% select(starts_with(\"Item\"))\n",
        "\n",
        "## Check out the dataset\n",
        "head(EFAData, n = 10)"
      ],
      "metadata": {
        "id": "C6x_JXpkJ4RF"
      },
      "execution_count": null,
      "outputs": []
    },
    {
      "cell_type": "markdown",
      "source": [
        "## 1) Compute the descriptive statistics\n",
        "\n",
        "Use the `describe()` function from the `psych` package to evalute the means, SDs, and skew of our variables.\n",
        "\n"
      ],
      "metadata": {
        "id": "mq71zgL8K6Br"
      }
    },
    {
      "cell_type": "code",
      "source": [
        "## Calculate descriptive statistics\n"
      ],
      "metadata": {
        "id": "R9-S7yZwLJyi"
      },
      "execution_count": null,
      "outputs": []
    },
    {
      "cell_type": "markdown",
      "source": [
        "## 2) Conduct reliability analyses\n",
        "\n",
        "Use the `alpha()` function from the `psych` package to conduct reliability analyses. Be sure to identify the following:\n",
        "\n",
        "  A) Overall (standardized) alpha ($\\alpha$)\n",
        "\n",
        "  B) Items that might be dropped to improve the reliability of our assessment"
      ],
      "metadata": {
        "id": "qfhBC_GRLrGm"
      }
    },
    {
      "cell_type": "code",
      "source": [
        "## Conduct alpha reliability analyses\n"
      ],
      "metadata": {
        "id": "YWZYQRQaMK0k"
      },
      "execution_count": null,
      "outputs": []
    },
    {
      "cell_type": "markdown",
      "source": [
        "## 4) Create the correlation matrix\n",
        "\n",
        "Exploratory factor analyses use a correlation matrix as the main input. Create an object to store the correlation matrix for our analyses.\n"
      ],
      "metadata": {
        "id": "48d-P7ZFMQmz"
      }
    },
    {
      "cell_type": "code",
      "source": [
        "## Create correlation matrix\n"
      ],
      "metadata": {
        "id": "WVx4NNXhMfwy"
      },
      "execution_count": null,
      "outputs": []
    },
    {
      "cell_type": "markdown",
      "source": [
        "## 5) Create the scree plot\n",
        "\n",
        "We will examine two methods to determine the number of factors to retain. First will be the Scree Plot. Use the `scree()` function from the `psych` package.\n"
      ],
      "metadata": {
        "id": "YIG7VQJtMrM5"
      }
    },
    {
      "cell_type": "code",
      "source": [
        "## Create the scree plot\n"
      ],
      "metadata": {
        "id": "w-mxf0DIM5cR"
      },
      "execution_count": null,
      "outputs": []
    },
    {
      "cell_type": "markdown",
      "source": [
        "## 6) Conduct parallel analysis\n",
        "\n",
        "The second method will be the parallel analyses. Use the `fa.parallel()` function from the `psych` package. Remember to examine the FA Actual and FA Simulated data, **not** the PC Actual/Simulated."
      ],
      "metadata": {
        "id": "UwVZWi0RM_9q"
      }
    },
    {
      "cell_type": "code",
      "source": [
        "## Conduct parallel analysis\n"
      ],
      "metadata": {
        "id": "etA3gdOKNJHg"
      },
      "execution_count": null,
      "outputs": []
    },
    {
      "cell_type": "markdown",
      "source": [
        "## 7) Determine the number of factors\n",
        "\n",
        "Based on both methods above, determine how many factors we should retain in our dataset. Briefly defend your stance."
      ],
      "metadata": {
        "id": "3A6FOSX2NSUP"
      }
    },
    {
      "cell_type": "markdown",
      "source": [
        "[You may edit this box to answer the prompt]"
      ],
      "metadata": {
        "id": "5CpoAu-UNt6W"
      }
    },
    {
      "cell_type": "markdown",
      "source": [
        "## 7) Conduct exploratory factor analysis\n",
        "\n",
        "Using the `fa()` function from the `psych` package, conduct exploratory factor analysis. Remember to specify the following arguments:\n",
        "*   `nfactors`: Set this argument to the number of factors identified above.\n",
        "*   `rotate`: *If we need a factor rotation*, start with an oblique rotation, such as \"oblimin\" or \"geominQ\".\n",
        "*   `fm`: Set the factor method to \"ols\"\n",
        "\n",
        "Please print out the factor **loadings** and, if we applied a factor rotation, the factor correlation matrix (the Phi matrix, see the demonstration)."
      ],
      "metadata": {
        "id": "_HW7GjUrNxKG"
      }
    },
    {
      "cell_type": "code",
      "source": [
        "## Conduct EFA\n"
      ],
      "metadata": {
        "id": "O-ZJI41RNSBX"
      },
      "execution_count": null,
      "outputs": []
    },
    {
      "cell_type": "markdown",
      "source": [
        "## 8) Interpret our results\n",
        "\n",
        "Based on our all of our factor analysis results, interpret your results by answering the following prompts:\n",
        "\n",
        "* How many latent factors were found? If multiple factors were found, was the factor correlation sufficiently large to suggest that an oblique rotation was necessary?\n",
        "\n",
        "* Which factor(s) are each item best representing? Stated differently, what factor has the largest factor loading for each item?\n",
        "\n",
        "* Are there any items that are \"bad\" (e.g., weak primary factor loading and/or cross-loadings)? If so, which items and briefly state how they are \"bad.\""
      ],
      "metadata": {
        "id": "45kmKXFMPiYI"
      }
    },
    {
      "cell_type": "markdown",
      "source": [
        "[You may edit this textbox to answer the prompts]"
      ],
      "metadata": {
        "id": "ODK5HLuwQveI"
      }
    }
  ]
}