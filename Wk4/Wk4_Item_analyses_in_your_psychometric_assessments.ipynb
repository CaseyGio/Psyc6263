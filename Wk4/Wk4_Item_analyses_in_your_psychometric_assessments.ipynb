{
  "nbformat": 4,
  "nbformat_minor": 0,
  "metadata": {
    "colab": {
      "provenance": []
    },
    "kernelspec": {
      "name": "ir",
      "display_name": "R"
    },
    "language_info": {
      "name": "R"
    }
  },
  "cells": [
    {
      "cell_type": "markdown",
      "source": [
        "# Objective:\n",
        "Using your collected data, you will assess the quality of items in your scale through descriptive statistics, visualizations, and correlations. You will use these results to determine which items may need to be revised or removed."
      ],
      "metadata": {
        "id": "Ra5Q8ctwKU1i"
      }
    },
    {
      "cell_type": "markdown",
      "source": [
        "## Load packages\n",
        "\n",
        "There are two focal packages that we will use. The `psych` package must first be installed. Then, we will load the `psych` and `tidyverse` packages.\n",
        "\n",
        "## 1) Install and load both packages\n",
        "\n",
        "Use a separate chunk for installing and loading the packages. Installing the `psych` package takes a while so if you mess up, you'll have to re-do that step every time."
      ],
      "metadata": {
        "id": "J0200lE_KdHq"
      }
    },
    {
      "cell_type": "code",
      "source": [
        "## Install package(s)\n"
      ],
      "metadata": {
        "id": "xZd6ouUdK8w_"
      },
      "execution_count": null,
      "outputs": []
    },
    {
      "cell_type": "code",
      "source": [
        "## Load packages\n"
      ],
      "metadata": {
        "id": "sbLWtKhXK-nv"
      },
      "execution_count": null,
      "outputs": []
    },
    {
      "cell_type": "markdown",
      "source": [
        "## Load the class data\n",
        "\n",
        "Each group was given a unique identifier for their items. This identifier will be how we specifically extract *your* group's data (i.e., items). This first chunk will load all of the data from our class survey.\n",
        "\n",
        "**Data Structure**\n",
        "- These data are in \"wide\" format wherein each respondent is placed on a row and their columns represent responses to each question/variable.\n",
        "\n",
        "- All items have been recoded into numeric values for you. The lowest response option (e.g., \"Strongly disagree\") was converted to a 1 and the highest (e.g., \"Strongly agree\") to the highest value (e.g., 5 or 7).\n",
        "\n",
        "- Columns represent individual items/variables."
      ],
      "metadata": {
        "id": "C3xw6NsYLFau"
      }
    },
    {
      "cell_type": "code",
      "source": [
        "## Load data\n",
        "## Set the URL to Casey's GitHub page where the dataset is located\n",
        "FileURL <- \"https://raw.githubusercontent.com/CaseyGio/Psyc6263/refs/heads/main/Datasets/TestData.csv\"\n",
        "\n",
        "## Read the csv file from GitHub and create a new object\n",
        "QualtricsData <- read_csv(url(FileURL))\n",
        "\n",
        "## View the first few rows of data\n",
        "QualtricsData %>% head(n = 10)"
      ],
      "metadata": {
        "id": "6truMZsELLv-"
      },
      "execution_count": null,
      "outputs": []
    },
    {
      "cell_type": "markdown",
      "source": [
        "## Data wrangling\n",
        "\n",
        "Now that data are loaded, we will conduct two steps for our data wrangling: (a) select your group's items and ignore the other items and (b) create a composite score.\n",
        "\n",
        "## 2) Select *your* group's data\n",
        "\n",
        "In this chunk, we will use the `starts_with()` function, along with the column `select()` function, to specifically extract your group's items. Inside the quotation marks, insert your group identifier. If done correctly, you will have an object, named `GrpData` (you can change this) with all of your items.\n",
        "\n",
        "Note: I have added your group's items in the same order that you shared them with me on Canvas. Your first item is represented by [identifier]Q01 and your last as [identifier]Q10."
      ],
      "metadata": {
        "id": "LwgzPbi-RDE2"
      }
    },
    {
      "cell_type": "code",
      "source": [
        "## Select YOUR data\n",
        "GrpData <-\n",
        "  QualtricsData %>%\n",
        "  select(starts_with(\"\"))\n",
        "\n",
        "## View the first few rows of data\n",
        "GrpData %>%\n",
        "  head(n = 10)"
      ],
      "metadata": {
        "id": "CehA4wFiM_41"
      },
      "execution_count": null,
      "outputs": []
    },
    {
      "cell_type": "markdown",
      "source": [
        "## 3) Create a composite score (average)\n",
        "\n",
        "In case we have missing data (e.g., a respondent did not answer an item), we shall default to using the average/mean to calculate our composite scale score. In this step, use the `rowMeans()` and `mutate()` functions, like in our previous week's demonstration, to create the composite score.\n",
        "\n",
        "- Create a new object (e.g., GrpClean) to store these changes\n",
        "\n",
        "- Use the `mutate()` and `rowMeans()` functions to create a new variable/column representing the total score. Name this column (e.g., [identifier]Total)."
      ],
      "metadata": {
        "id": "ierc65O8RzJU"
      }
    },
    {
      "cell_type": "code",
      "source": [
        "## Create a new object with the composite/total score\n"
      ],
      "metadata": {
        "id": "AjWV1cTfTM9y"
      },
      "execution_count": null,
      "outputs": []
    },
    {
      "cell_type": "markdown",
      "source": [
        "## Descriptive statistics\n",
        "\n",
        "In this section, we shall being our item analyses by calculating descriptive statistics.\n",
        "\n",
        "## 4) Calculate the following descriptive statistics:\n",
        "\n",
        "- The mean/average score for every item, including for the total score\n",
        "\n",
        "- The standard deviation (SD) for every item, including for the total score\n",
        "\n",
        "- The skewness (skew) for every item, including for the total score"
      ],
      "metadata": {
        "id": "tnqfb849TSEg"
      }
    },
    {
      "cell_type": "code",
      "source": [
        "## Calculate item descriptive statistics\n"
      ],
      "metadata": {
        "id": "uV502IFiTuoP"
      },
      "execution_count": null,
      "outputs": []
    },
    {
      "cell_type": "markdown",
      "source": [
        "## 5) Identify any potentially problematic items\n",
        "\n",
        "Based on these descriptive statistics, begin to identify any problematic items. Which items have unusual means (e.g., too high/low)? Standard deviations (e.g., too low)? Skewnesses (e.g., deviates too much from 0)?\n",
        "\n",
        "Please elaborate on *why* you think these items are problematic. If you think all of your items are \"good,\" please describe why you think that is the case (e.g., what value or range of values are you considering \"good\")."
      ],
      "metadata": {
        "id": "oYchxdouTyM2"
      }
    },
    {
      "cell_type": "markdown",
      "source": [
        "[You can edit this textbox to write your answers here]"
      ],
      "metadata": {
        "id": "yk6T6BctUUTu"
      }
    },
    {
      "cell_type": "markdown",
      "source": [
        "## 6) Visualize item distributions\n",
        "\n",
        "Let's visualize our item-level response distributions. Recall that we can accomplish this in two steps/code chunks: (a) reshape our data from \"wide\" to \"long\" format using the `pivot_longer()` function then (b) using the ggplot package with the `facet_wrap()` function.\n",
        "- Given our number of response options, a histogram (`geom_histogram()`) may be best."
      ],
      "metadata": {
        "id": "AUqN9nP6Ule-"
      }
    },
    {
      "cell_type": "code",
      "source": [
        "## Reshape the data into long format using pivot_longer\n"
      ],
      "metadata": {
        "id": "OhQEaCafV1Aj"
      },
      "execution_count": null,
      "outputs": []
    },
    {
      "cell_type": "code",
      "source": [
        "## Visualize the item distributions with face_wrap\n"
      ],
      "metadata": {
        "id": "WtItaHiRV4R6"
      },
      "execution_count": null,
      "outputs": []
    },
    {
      "cell_type": "markdown",
      "source": [
        "## 7) Interpret the visualizations\n",
        "\n",
        "Based on the quantitative analyses in Q4/Q5 above and the visualizations you just created, describe any usual or potentially problematic items. There may or may not be new/different interpretations given the visualization data. It is okay to repeat yourself if the quantitative and qualitative (visualization) portions produce the same conclusions."
      ],
      "metadata": {
        "id": "8DCcPLnBXDDN"
      }
    },
    {
      "cell_type": "markdown",
      "source": [
        "[You may edit this textbox to put your answers here]"
      ],
      "metadata": {
        "id": "3ZN8L17PXilB"
      }
    },
    {
      "cell_type": "markdown",
      "source": [
        "## 8) Calculate the correlation matrix for your items\n",
        "\n",
        "The dimensions of this matrix (i.e., number of rows & columns) is based on the number of items you have, including the total score."
      ],
      "metadata": {
        "id": "9UFdHz0WXlqR"
      }
    },
    {
      "cell_type": "code",
      "source": [
        "## Create the correlation matrix amongst your items\n"
      ],
      "metadata": {
        "id": "8tMraeV5X-8O"
      },
      "execution_count": null,
      "outputs": []
    },
    {
      "cell_type": "markdown",
      "source": [
        "## 9) Interpret the item correlations\n",
        "\n",
        "Based on your correlation matrix, particularly the item-total correlations, have you identified any potentially problematic or unusual items? Please elaborate on *why* you think the item(s) is/are problematic/unusual. If you think none are problematic, please elaborate on why you think this is the case."
      ],
      "metadata": {
        "id": "c85MCGuXYCi1"
      }
    },
    {
      "cell_type": "markdown",
      "source": [
        "[You may edit this textbox to include your answers]"
      ],
      "metadata": {
        "id": "IzI1B3x2YZ5y"
      }
    },
    {
      "cell_type": "markdown",
      "source": [
        "## 10) Summarize your item analyses and conclusions\n",
        "\n",
        "Based on all of your item analyses, what are the items that you think are showing signs of problems or are unusual and merit further investigation? You may refer to the actual wording of the items, too. Be sure to discuss the **item difficulty** and **item discrimination** concepts we have learned about in class."
      ],
      "metadata": {
        "id": "wNxDWal6YppZ"
      }
    },
    {
      "cell_type": "markdown",
      "source": [
        "[You may edit this textbox to include your answers]"
      ],
      "metadata": {
        "id": "e4JUkVGYZK3d"
      }
    }
  ]
}