{
  "nbformat": 4,
  "nbformat_minor": 0,
  "metadata": {
    "colab": {
      "provenance": []
    },
    "kernelspec": {
      "name": "ir",
      "display_name": "R"
    },
    "language_info": {
      "name": "R"
    }
  },
  "cells": [
    {
      "cell_type": "markdown",
      "source": [
        "# Scoring Demonstration\n",
        "\n",
        "This Google Colab notebook demonstrates core concepts in scoring. Specifically for our purposes, we will mostly cover sample-based norms (i.e., norm-referenced scoring). This builds on our week 6 demonstration so that we can build upon our knowledge from before.\n",
        "\n",
        "We will use the `tidyverse` and `psych` packages to illustrate the EFA and scoring approaches.\n",
        "\n",
        "## Required Packages\n",
        "\n",
        "- `tidyverse`: for data handling and visualization  \n",
        "- `psych`: for factor analysis functions (e.g., `fa`, `fa.parallel`)  \n"
      ],
      "metadata": {
        "id": "cAkbiNbZ76el"
      }
    },
    {
      "cell_type": "code",
      "source": [
        "## Install the psych package\n",
        "install.packages(\"psych\")"
      ],
      "metadata": {
        "colab": {
          "base_uri": "https://localhost:8080/"
        },
        "id": "Fu3qFnFq8Rk8",
        "outputId": "61528db9-2c28-4cb2-b2f4-879273a1e315"
      },
      "execution_count": 1,
      "outputs": [
        {
          "output_type": "stream",
          "name": "stderr",
          "text": [
            "Installing package into ‘/usr/local/lib/R/site-library’\n",
            "(as ‘lib’ is unspecified)\n",
            "\n",
            "also installing the dependencies ‘mnormt’, ‘GPArotation’\n",
            "\n",
            "\n"
          ]
        }
      ]
    },
    {
      "cell_type": "code",
      "execution_count": 2,
      "metadata": {
        "id": "6ez5ZqdS7egP",
        "colab": {
          "base_uri": "https://localhost:8080/"
        },
        "outputId": "53b59a5d-116a-4d53-9baa-8a7f29c71a97"
      },
      "outputs": [
        {
          "output_type": "stream",
          "name": "stderr",
          "text": [
            "── \u001b[1mAttaching core tidyverse packages\u001b[22m ──────────────────────── tidyverse 2.0.0 ──\n",
            "\u001b[32m✔\u001b[39m \u001b[34mdplyr    \u001b[39m 1.1.4     \u001b[32m✔\u001b[39m \u001b[34mreadr    \u001b[39m 2.1.5\n",
            "\u001b[32m✔\u001b[39m \u001b[34mforcats  \u001b[39m 1.0.0     \u001b[32m✔\u001b[39m \u001b[34mstringr  \u001b[39m 1.5.1\n",
            "\u001b[32m✔\u001b[39m \u001b[34mggplot2  \u001b[39m 3.5.2     \u001b[32m✔\u001b[39m \u001b[34mtibble   \u001b[39m 3.3.0\n",
            "\u001b[32m✔\u001b[39m \u001b[34mlubridate\u001b[39m 1.9.4     \u001b[32m✔\u001b[39m \u001b[34mtidyr    \u001b[39m 1.3.1\n",
            "\u001b[32m✔\u001b[39m \u001b[34mpurrr    \u001b[39m 1.1.0     \n",
            "── \u001b[1mConflicts\u001b[22m ────────────────────────────────────────── tidyverse_conflicts() ──\n",
            "\u001b[31m✖\u001b[39m \u001b[34mdplyr\u001b[39m::\u001b[32mfilter()\u001b[39m masks \u001b[34mstats\u001b[39m::filter()\n",
            "\u001b[31m✖\u001b[39m \u001b[34mdplyr\u001b[39m::\u001b[32mlag()\u001b[39m    masks \u001b[34mstats\u001b[39m::lag()\n",
            "\u001b[36mℹ\u001b[39m Use the conflicted package (\u001b[3m\u001b[34m<http://conflicted.r-lib.org/>\u001b[39m\u001b[23m) to force all conflicts to become errors\n",
            "\n",
            "Attaching package: ‘psych’\n",
            "\n",
            "\n",
            "The following objects are masked from ‘package:ggplot2’:\n",
            "\n",
            "    %+%, alpha\n",
            "\n",
            "\n"
          ]
        }
      ],
      "source": [
        "## Load both packages\n",
        "library(tidyverse)\n",
        "library(psych)"
      ]
    },
    {
      "cell_type": "markdown",
      "source": [
        "## Load the data\n",
        "\n",
        "In this section, you'll load the simulated dataset containing item-level responses. Each row represents one participant. Each column is a survey item, scored on a **1 to 7 Likert scale**."
      ],
      "metadata": {
        "id": "JjzkRxo_8aNb"
      }
    },
    {
      "cell_type": "code",
      "source": [
        "## Load data\n",
        "## Set the URL to Casey's GitHub page where the dataset is located\n",
        "FileURL <- \"https://raw.githubusercontent.com/CaseyGio/Psyc6263/refs/heads/main/Datasets/EFA%20Demonstration%20Data.csv\"\n",
        "\n",
        "## Read the csv file from GitHub and create a new object\n",
        "EFAData <- read_csv(url(FileURL)) %>% select(starts_with(\"Item\"))\n",
        "\n",
        "## Check out the dataset\n",
        "head(EFAData, n = 10)"
      ],
      "metadata": {
        "colab": {
          "base_uri": "https://localhost:8080/",
          "height": 533
        },
        "id": "bN-Qw7BU8ntO",
        "outputId": "ce97f80f-8711-4ed0-82e9-f8eefb75b0c8"
      },
      "execution_count": 3,
      "outputs": [
        {
          "output_type": "stream",
          "name": "stderr",
          "text": [
            "\u001b[1mRows: \u001b[22m\u001b[34m100\u001b[39m \u001b[1mColumns: \u001b[22m\u001b[34m10\u001b[39m\n",
            "\u001b[36m──\u001b[39m \u001b[1mColumn specification\u001b[22m \u001b[36m────────────────────────────────────────────────────────\u001b[39m\n",
            "\u001b[1mDelimiter:\u001b[22m \",\"\n",
            "\u001b[32mdbl\u001b[39m (10): Item1, Item2, Item3, Item4, Item5, Item6, Item7, Item8, Item9, Item10\n",
            "\n",
            "\u001b[36mℹ\u001b[39m Use `spec()` to retrieve the full column specification for this data.\n",
            "\u001b[36mℹ\u001b[39m Specify the column types or set `show_col_types = FALSE` to quiet this message.\n"
          ]
        },
        {
          "output_type": "display_data",
          "data": {
            "text/html": [
              "<table class=\"dataframe\">\n",
              "<caption>A tibble: 10 × 10</caption>\n",
              "<thead>\n",
              "\t<tr><th scope=col>Item1</th><th scope=col>Item2</th><th scope=col>Item3</th><th scope=col>Item4</th><th scope=col>Item5</th><th scope=col>Item6</th><th scope=col>Item7</th><th scope=col>Item8</th><th scope=col>Item9</th><th scope=col>Item10</th></tr>\n",
              "\t<tr><th scope=col>&lt;dbl&gt;</th><th scope=col>&lt;dbl&gt;</th><th scope=col>&lt;dbl&gt;</th><th scope=col>&lt;dbl&gt;</th><th scope=col>&lt;dbl&gt;</th><th scope=col>&lt;dbl&gt;</th><th scope=col>&lt;dbl&gt;</th><th scope=col>&lt;dbl&gt;</th><th scope=col>&lt;dbl&gt;</th><th scope=col>&lt;dbl&gt;</th></tr>\n",
              "</thead>\n",
              "<tbody>\n",
              "\t<tr><td>6</td><td>4</td><td>5</td><td>5</td><td>7</td><td>2</td><td>5</td><td>2</td><td>2</td><td>1</td></tr>\n",
              "\t<tr><td>3</td><td>6</td><td>4</td><td>1</td><td>2</td><td>2</td><td>1</td><td>1</td><td>3</td><td>1</td></tr>\n",
              "\t<tr><td>5</td><td>6</td><td>7</td><td>7</td><td>6</td><td>2</td><td>7</td><td>6</td><td>7</td><td>6</td></tr>\n",
              "\t<tr><td>5</td><td>5</td><td>4</td><td>5</td><td>4</td><td>4</td><td>4</td><td>2</td><td>3</td><td>2</td></tr>\n",
              "\t<tr><td>5</td><td>5</td><td>5</td><td>1</td><td>4</td><td>3</td><td>7</td><td>4</td><td>2</td><td>2</td></tr>\n",
              "\t<tr><td>1</td><td>6</td><td>4</td><td>4</td><td>2</td><td>1</td><td>1</td><td>2</td><td>7</td><td>3</td></tr>\n",
              "\t<tr><td>3</td><td>2</td><td>1</td><td>2</td><td>7</td><td>7</td><td>4</td><td>3</td><td>5</td><td>2</td></tr>\n",
              "\t<tr><td>6</td><td>4</td><td>6</td><td>4</td><td>3</td><td>7</td><td>3</td><td>3</td><td>2</td><td>5</td></tr>\n",
              "\t<tr><td>6</td><td>4</td><td>7</td><td>6</td><td>7</td><td>2</td><td>7</td><td>7</td><td>7</td><td>3</td></tr>\n",
              "\t<tr><td>2</td><td>5</td><td>5</td><td>5</td><td>3</td><td>4</td><td>6</td><td>4</td><td>3</td><td>1</td></tr>\n",
              "</tbody>\n",
              "</table>\n"
            ],
            "text/markdown": "\nA tibble: 10 × 10\n\n| Item1 &lt;dbl&gt; | Item2 &lt;dbl&gt; | Item3 &lt;dbl&gt; | Item4 &lt;dbl&gt; | Item5 &lt;dbl&gt; | Item6 &lt;dbl&gt; | Item7 &lt;dbl&gt; | Item8 &lt;dbl&gt; | Item9 &lt;dbl&gt; | Item10 &lt;dbl&gt; |\n|---|---|---|---|---|---|---|---|---|---|\n| 6 | 4 | 5 | 5 | 7 | 2 | 5 | 2 | 2 | 1 |\n| 3 | 6 | 4 | 1 | 2 | 2 | 1 | 1 | 3 | 1 |\n| 5 | 6 | 7 | 7 | 6 | 2 | 7 | 6 | 7 | 6 |\n| 5 | 5 | 4 | 5 | 4 | 4 | 4 | 2 | 3 | 2 |\n| 5 | 5 | 5 | 1 | 4 | 3 | 7 | 4 | 2 | 2 |\n| 1 | 6 | 4 | 4 | 2 | 1 | 1 | 2 | 7 | 3 |\n| 3 | 2 | 1 | 2 | 7 | 7 | 4 | 3 | 5 | 2 |\n| 6 | 4 | 6 | 4 | 3 | 7 | 3 | 3 | 2 | 5 |\n| 6 | 4 | 7 | 6 | 7 | 2 | 7 | 7 | 7 | 3 |\n| 2 | 5 | 5 | 5 | 3 | 4 | 6 | 4 | 3 | 1 |\n\n",
            "text/latex": "A tibble: 10 × 10\n\\begin{tabular}{llllllllll}\n Item1 & Item2 & Item3 & Item4 & Item5 & Item6 & Item7 & Item8 & Item9 & Item10\\\\\n <dbl> & <dbl> & <dbl> & <dbl> & <dbl> & <dbl> & <dbl> & <dbl> & <dbl> & <dbl>\\\\\n\\hline\n\t 6 & 4 & 5 & 5 & 7 & 2 & 5 & 2 & 2 & 1\\\\\n\t 3 & 6 & 4 & 1 & 2 & 2 & 1 & 1 & 3 & 1\\\\\n\t 5 & 6 & 7 & 7 & 6 & 2 & 7 & 6 & 7 & 6\\\\\n\t 5 & 5 & 4 & 5 & 4 & 4 & 4 & 2 & 3 & 2\\\\\n\t 5 & 5 & 5 & 1 & 4 & 3 & 7 & 4 & 2 & 2\\\\\n\t 1 & 6 & 4 & 4 & 2 & 1 & 1 & 2 & 7 & 3\\\\\n\t 3 & 2 & 1 & 2 & 7 & 7 & 4 & 3 & 5 & 2\\\\\n\t 6 & 4 & 6 & 4 & 3 & 7 & 3 & 3 & 2 & 5\\\\\n\t 6 & 4 & 7 & 6 & 7 & 2 & 7 & 7 & 7 & 3\\\\\n\t 2 & 5 & 5 & 5 & 3 & 4 & 6 & 4 & 3 & 1\\\\\n\\end{tabular}\n",
            "text/plain": [
              "   Item1 Item2 Item3 Item4 Item5 Item6 Item7 Item8 Item9 Item10\n",
              "1  6     4     5     5     7     2     5     2     2     1     \n",
              "2  3     6     4     1     2     2     1     1     3     1     \n",
              "3  5     6     7     7     6     2     7     6     7     6     \n",
              "4  5     5     4     5     4     4     4     2     3     2     \n",
              "5  5     5     5     1     4     3     7     4     2     2     \n",
              "6  1     6     4     4     2     1     1     2     7     3     \n",
              "7  3     2     1     2     7     7     4     3     5     2     \n",
              "8  6     4     6     4     3     7     3     3     2     5     \n",
              "9  6     4     7     6     7     2     7     7     7     3     \n",
              "10 2     5     5     5     3     4     6     4     3     1     "
            ]
          },
          "metadata": {}
        }
      ]
    },
    {
      "cell_type": "markdown",
      "source": [
        "## Refresher: EFA findings\n",
        "\n",
        "For simplicity, we'll show the parallel analysis results and EFA results so that we remember our latent factor structures in our dataset."
      ],
      "metadata": {
        "id": "bXd85SLGvblT"
      }
    },
    {
      "cell_type": "code",
      "source": [
        "## Create correlation matrix\n",
        "CorrData <-\n",
        "  cor(EFAData)\n",
        "\n",
        "## Parallel analysis\n",
        "fa.parallel(x     = CorrData,\n",
        "            fa    = \"fa\",\n",
        "            n.obs = 100)"
      ],
      "metadata": {
        "colab": {
          "base_uri": "https://localhost:8080/",
          "height": 437
        },
        "id": "s_P1BWYE_m4H",
        "outputId": "bd76d2b0-9a5f-4185-e971-5dd8f2569ba2"
      },
      "execution_count": 8,
      "outputs": [
        {
          "output_type": "display_data",
          "data": {
            "text/plain": [
              "Plot with title “Parallel Analysis Scree Plots”"
            ],
            "image/png": "[encoded data removed]"
          },
          "metadata": {
            "image/png": {
              "width": 420,
              "height": 420
            }
          }
        }
      ]
    },
    {
      "cell_type": "code",
      "source": [
        "## Extract and rotate our factor solutions\n",
        "EFAOutput <-\n",
        "  fa(r        = CorrData,\n",
        "     nfactors = 2,\n",
        "     rotate   = \"oblimin\",\n",
        "     fm       = \"ols\")\n",
        "\n",
        "## Show the factor loadings (factor pattern) matrix\n",
        "EFAOutput$loadings[] %>%\n",
        "  round(2)\n"
      ],
      "metadata": {
        "colab": {
          "base_uri": "https://localhost:8080/",
          "height": 365
        },
        "id": "D5CHCIov_3H4",
        "outputId": "6757a10d-c4c8-4a17-98c1-e6e5f4332d06"
      },
      "execution_count": null,
      "outputs": [
        {
          "output_type": "display_data",
          "data": {
            "text/html": [
              "<table class=\"dataframe\">\n",
              "<caption>A matrix: 10 × 2 of type dbl</caption>\n",
              "<tbody>\n",
              "\t<tr><th scope=row>Item1</th><td> 0.64</td><td> 0.12</td></tr>\n",
              "\t<tr><th scope=row>Item2</th><td> 0.75</td><td>-0.06</td></tr>\n",
              "\t<tr><th scope=row>Item3</th><td> 0.85</td><td>-0.11</td></tr>\n",
              "\t<tr><th scope=row>Item4</th><td> 0.59</td><td> 0.26</td></tr>\n",
              "\t<tr><th scope=row>Item5</th><td> 0.47</td><td> 0.33</td></tr>\n",
              "\t<tr><th scope=row>Item6</th><td>-0.02</td><td> 0.27</td></tr>\n",
              "\t<tr><th scope=row>Item7</th><td>-0.03</td><td> 0.71</td></tr>\n",
              "\t<tr><th scope=row>Item8</th><td>-0.02</td><td> 0.78</td></tr>\n",
              "\t<tr><th scope=row>Item9</th><td> 0.05</td><td> 0.71</td></tr>\n",
              "\t<tr><th scope=row>Item10</th><td> 0.19</td><td> 0.24</td></tr>\n",
              "</tbody>\n",
              "</table>\n"
            ],
            "text/markdown": "\nA matrix: 10 × 2 of type dbl\n\n| Item1 |  0.64 |  0.12 |\n| Item2 |  0.75 | -0.06 |\n| Item3 |  0.85 | -0.11 |\n| Item4 |  0.59 |  0.26 |\n| Item5 |  0.47 |  0.33 |\n| Item6 | -0.02 |  0.27 |\n| Item7 | -0.03 |  0.71 |\n| Item8 | -0.02 |  0.78 |\n| Item9 |  0.05 |  0.71 |\n| Item10 |  0.19 |  0.24 |\n\n",
            "text/latex": "A matrix: 10 × 2 of type dbl\n\\begin{tabular}{r|ll}\n\tItem1 &  0.64 &  0.12\\\\\n\tItem2 &  0.75 & -0.06\\\\\n\tItem3 &  0.85 & -0.11\\\\\n\tItem4 &  0.59 &  0.26\\\\\n\tItem5 &  0.47 &  0.33\\\\\n\tItem6 & -0.02 &  0.27\\\\\n\tItem7 & -0.03 &  0.71\\\\\n\tItem8 & -0.02 &  0.78\\\\\n\tItem9 &  0.05 &  0.71\\\\\n\tItem10 &  0.19 &  0.24\\\\\n\\end{tabular}\n",
            "text/plain": [
              "       [,1]  [,2] \n",
              "Item1   0.64  0.12\n",
              "Item2   0.75 -0.06\n",
              "Item3   0.85 -0.11\n",
              "Item4   0.59  0.26\n",
              "Item5   0.47  0.33\n",
              "Item6  -0.02  0.27\n",
              "Item7  -0.03  0.71\n",
              "Item8  -0.02  0.78\n",
              "Item9   0.05  0.71\n",
              "Item10  0.19  0.24"
            ]
          },
          "metadata": {}
        }
      ]
    },
    {
      "cell_type": "code",
      "source": [
        "## Show the factor correlation (Phi) matrix\n",
        "EFAOutput$Phi %>%\n",
        "  round(2)"
      ],
      "metadata": {
        "colab": {
          "base_uri": "https://localhost:8080/",
          "height": 114
        },
        "id": "LJOImSYWBhgK",
        "outputId": "bcf5f00f-4b1b-47ba-ad21-80be8aa0ab83"
      },
      "execution_count": null,
      "outputs": [
        {
          "output_type": "display_data",
          "data": {
            "text/html": [
              "<table class=\"dataframe\">\n",
              "<caption>A matrix: 2 × 2 of type dbl</caption>\n",
              "<tbody>\n",
              "\t<tr><td>1.00</td><td>0.42</td></tr>\n",
              "\t<tr><td>0.42</td><td>1.00</td></tr>\n",
              "</tbody>\n",
              "</table>\n"
            ],
            "text/markdown": "\nA matrix: 2 × 2 of type dbl\n\n| 1.00 | 0.42 |\n| 0.42 | 1.00 |\n\n",
            "text/latex": "A matrix: 2 × 2 of type dbl\n\\begin{tabular}{ll}\n\t 1.00 & 0.42\\\\\n\t 0.42 & 1.00\\\\\n\\end{tabular}\n",
            "text/plain": [
              "     [,1] [,2]\n",
              "[1,] 1.00 0.42\n",
              "[2,] 0.42 1.00"
            ]
          },
          "metadata": {}
        }
      ]
    },
    {
      "cell_type": "markdown",
      "source": [
        "### Interpretation\n",
        "\n",
        "**Factor pattern matrix**: We have some decent items here as far as they relate to the latent factors. However, there are some less-than-ideal ones, too.\n",
        "\n",
        "Items 5, 6, and 10 have some issues that stand out.\n",
        "\n",
        "Item 5 has (a) a low loading on the primary factor (loading = .47) but is mostly problematic because (b) it has a cross-loading on the secondary factor (loading = .33). The item is not a clear indicator of either factor and is somehow (at least partially) related to both factors, which is not ideal.\n",
        "\n",
        "Items 6 and 10 both have low loadings on the primary factors (loadings = .27 and .24, respectively). The \"primary factor\" is merely the factor with the highest loading.\n",
        "\n",
        "We might want to revise those items or even remove them from our scale. They have \"good\" descriptive statistics and do not negatively affect our reliability but they have lower construct validity in that they are not good representations of the focal constructs they were intended to measure.\n",
        "\n",
        "**Factor correlation matrix**: This is easy, we have a decently large factor correlation ($\\Phi$ = .42). This suggests we were correct in adopting an oblique rotation. Had this value been very low in absolute value (i.e., near zero), we may want to consider using an orthogonal rotation like Varimax."
      ],
      "metadata": {
        "id": "fWOoQjBxBi8C"
      }
    },
    {
      "cell_type": "markdown",
      "source": [
        "## Creating the subscale scores\n",
        "\n",
        "We have the following subscales in our dataset:\n",
        "\n",
        "**Scale 1**:\n",
        "\n",
        "* Item1\n",
        "* Item2\n",
        "* Item3\n",
        "* Item4\n",
        "\n",
        "**Scale 2**:\n",
        "\n",
        "* Item7\n",
        "* Item8\n",
        "* Item9\n",
        "\n",
        "## Unit-weighted scores\n",
        "\n",
        "For simplicity and due to our small sample size, we can create sub-scale scores by equally-weighting each item within a sub-scale. We could create a weighted score (e.g., using factor loadings as weights) as well but we discuss some issues with that in lecture.\n",
        "\n",
        "The code below seems complicated but we are essentially designating the columns that we are including in our calculation of the average. In case we had missing data, we use `na.rm = TRUE` to remove (rm) the NA (na) values."
      ],
      "metadata": {
        "id": "PdRdrj01wTR5"
      }
    },
    {
      "cell_type": "code",
      "source": [
        "## Create subscale scores\n",
        "Scoring <-\n",
        "  EFAData %>%\n",
        "  rowwise() %>%\n",
        "  mutate(Scale1 = mean(c_across(all_of(c(\"Item1\", \"Item2\", \"Item3\", \"Item4\"))), na.rm = TRUE),\n",
        "         Scale2 = mean(c_across(all_of(c(\"Item7\", \"Item8\", \"Item9\"))), na.rm = TRUE)) %>%\n",
        "  ungroup()\n",
        "\n",
        "## Examine the subscale scores\n",
        "Scoring %>%\n",
        "  #select(Scale1, Scale2) %>%\n",
        "  head(n = 10)"
      ],
      "metadata": {
        "colab": {
          "base_uri": "https://localhost:8080/",
          "height": 411
        },
        "id": "q8BQSy3zxPi7",
        "outputId": "8915f006-542f-4f6d-a217-c2f2f714bf18"
      },
      "execution_count": 15,
      "outputs": [
        {
          "output_type": "display_data",
          "data": {
            "text/html": [
              "<table class=\"dataframe\">\n",
              "<caption>A tibble: 10 × 12</caption>\n",
              "<thead>\n",
              "\t<tr><th scope=col>Item1</th><th scope=col>Item2</th><th scope=col>Item3</th><th scope=col>Item4</th><th scope=col>Item5</th><th scope=col>Item6</th><th scope=col>Item7</th><th scope=col>Item8</th><th scope=col>Item9</th><th scope=col>Item10</th><th scope=col>Scale1</th><th scope=col>Scale2</th></tr>\n",
              "\t<tr><th scope=col>&lt;dbl&gt;</th><th scope=col>&lt;dbl&gt;</th><th scope=col>&lt;dbl&gt;</th><th scope=col>&lt;dbl&gt;</th><th scope=col>&lt;dbl&gt;</th><th scope=col>&lt;dbl&gt;</th><th scope=col>&lt;dbl&gt;</th><th scope=col>&lt;dbl&gt;</th><th scope=col>&lt;dbl&gt;</th><th scope=col>&lt;dbl&gt;</th><th scope=col>&lt;dbl&gt;</th><th scope=col>&lt;dbl&gt;</th></tr>\n",
              "</thead>\n",
              "<tbody>\n",
              "\t<tr><td>6</td><td>4</td><td>5</td><td>5</td><td>7</td><td>2</td><td>5</td><td>2</td><td>2</td><td>1</td><td>5.00</td><td>3.000000</td></tr>\n",
              "\t<tr><td>3</td><td>6</td><td>4</td><td>1</td><td>2</td><td>2</td><td>1</td><td>1</td><td>3</td><td>1</td><td>3.50</td><td>1.666667</td></tr>\n",
              "\t<tr><td>5</td><td>6</td><td>7</td><td>7</td><td>6</td><td>2</td><td>7</td><td>6</td><td>7</td><td>6</td><td>6.25</td><td>6.666667</td></tr>\n",
              "\t<tr><td>5</td><td>5</td><td>4</td><td>5</td><td>4</td><td>4</td><td>4</td><td>2</td><td>3</td><td>2</td><td>4.75</td><td>3.000000</td></tr>\n",
              "\t<tr><td>5</td><td>5</td><td>5</td><td>1</td><td>4</td><td>3</td><td>7</td><td>4</td><td>2</td><td>2</td><td>4.00</td><td>4.333333</td></tr>\n",
              "\t<tr><td>1</td><td>6</td><td>4</td><td>4</td><td>2</td><td>1</td><td>1</td><td>2</td><td>7</td><td>3</td><td>3.75</td><td>3.333333</td></tr>\n",
              "\t<tr><td>3</td><td>2</td><td>1</td><td>2</td><td>7</td><td>7</td><td>4</td><td>3</td><td>5</td><td>2</td><td>2.00</td><td>4.000000</td></tr>\n",
              "\t<tr><td>6</td><td>4</td><td>6</td><td>4</td><td>3</td><td>7</td><td>3</td><td>3</td><td>2</td><td>5</td><td>5.00</td><td>2.666667</td></tr>\n",
              "\t<tr><td>6</td><td>4</td><td>7</td><td>6</td><td>7</td><td>2</td><td>7</td><td>7</td><td>7</td><td>3</td><td>5.75</td><td>7.000000</td></tr>\n",
              "\t<tr><td>2</td><td>5</td><td>5</td><td>5</td><td>3</td><td>4</td><td>6</td><td>4</td><td>3</td><td>1</td><td>4.25</td><td>4.333333</td></tr>\n",
              "</tbody>\n",
              "</table>\n"
            ],
            "text/markdown": "\nA tibble: 10 × 12\n\n| Item1 &lt;dbl&gt; | Item2 &lt;dbl&gt; | Item3 &lt;dbl&gt; | Item4 &lt;dbl&gt; | Item5 &lt;dbl&gt; | Item6 &lt;dbl&gt; | Item7 &lt;dbl&gt; | Item8 &lt;dbl&gt; | Item9 &lt;dbl&gt; | Item10 &lt;dbl&gt; | Scale1 &lt;dbl&gt; | Scale2 &lt;dbl&gt; |\n|---|---|---|---|---|---|---|---|---|---|---|---|\n| 6 | 4 | 5 | 5 | 7 | 2 | 5 | 2 | 2 | 1 | 5.00 | 3.000000 |\n| 3 | 6 | 4 | 1 | 2 | 2 | 1 | 1 | 3 | 1 | 3.50 | 1.666667 |\n| 5 | 6 | 7 | 7 | 6 | 2 | 7 | 6 | 7 | 6 | 6.25 | 6.666667 |\n| 5 | 5 | 4 | 5 | 4 | 4 | 4 | 2 | 3 | 2 | 4.75 | 3.000000 |\n| 5 | 5 | 5 | 1 | 4 | 3 | 7 | 4 | 2 | 2 | 4.00 | 4.333333 |\n| 1 | 6 | 4 | 4 | 2 | 1 | 1 | 2 | 7 | 3 | 3.75 | 3.333333 |\n| 3 | 2 | 1 | 2 | 7 | 7 | 4 | 3 | 5 | 2 | 2.00 | 4.000000 |\n| 6 | 4 | 6 | 4 | 3 | 7 | 3 | 3 | 2 | 5 | 5.00 | 2.666667 |\n| 6 | 4 | 7 | 6 | 7 | 2 | 7 | 7 | 7 | 3 | 5.75 | 7.000000 |\n| 2 | 5 | 5 | 5 | 3 | 4 | 6 | 4 | 3 | 1 | 4.25 | 4.333333 |\n\n",
            "text/latex": "A tibble: 10 × 12\n\\begin{tabular}{llllllllllll}\n Item1 & Item2 & Item3 & Item4 & Item5 & Item6 & Item7 & Item8 & Item9 & Item10 & Scale1 & Scale2\\\\\n <dbl> & <dbl> & <dbl> & <dbl> & <dbl> & <dbl> & <dbl> & <dbl> & <dbl> & <dbl> & <dbl> & <dbl>\\\\\n\\hline\n\t 6 & 4 & 5 & 5 & 7 & 2 & 5 & 2 & 2 & 1 & 5.00 & 3.000000\\\\\n\t 3 & 6 & 4 & 1 & 2 & 2 & 1 & 1 & 3 & 1 & 3.50 & 1.666667\\\\\n\t 5 & 6 & 7 & 7 & 6 & 2 & 7 & 6 & 7 & 6 & 6.25 & 6.666667\\\\\n\t 5 & 5 & 4 & 5 & 4 & 4 & 4 & 2 & 3 & 2 & 4.75 & 3.000000\\\\\n\t 5 & 5 & 5 & 1 & 4 & 3 & 7 & 4 & 2 & 2 & 4.00 & 4.333333\\\\\n\t 1 & 6 & 4 & 4 & 2 & 1 & 1 & 2 & 7 & 3 & 3.75 & 3.333333\\\\\n\t 3 & 2 & 1 & 2 & 7 & 7 & 4 & 3 & 5 & 2 & 2.00 & 4.000000\\\\\n\t 6 & 4 & 6 & 4 & 3 & 7 & 3 & 3 & 2 & 5 & 5.00 & 2.666667\\\\\n\t 6 & 4 & 7 & 6 & 7 & 2 & 7 & 7 & 7 & 3 & 5.75 & 7.000000\\\\\n\t 2 & 5 & 5 & 5 & 3 & 4 & 6 & 4 & 3 & 1 & 4.25 & 4.333333\\\\\n\\end{tabular}\n",
            "text/plain": [
              "   Item1 Item2 Item3 Item4 Item5 Item6 Item7 Item8 Item9 Item10 Scale1 Scale2  \n",
              "1  6     4     5     5     7     2     5     2     2     1      5.00   3.000000\n",
              "2  3     6     4     1     2     2     1     1     3     1      3.50   1.666667\n",
              "3  5     6     7     7     6     2     7     6     7     6      6.25   6.666667\n",
              "4  5     5     4     5     4     4     4     2     3     2      4.75   3.000000\n",
              "5  5     5     5     1     4     3     7     4     2     2      4.00   4.333333\n",
              "6  1     6     4     4     2     1     1     2     7     3      3.75   3.333333\n",
              "7  3     2     1     2     7     7     4     3     5     2      2.00   4.000000\n",
              "8  6     4     6     4     3     7     3     3     2     5      5.00   2.666667\n",
              "9  6     4     7     6     7     2     7     7     7     3      5.75   7.000000\n",
              "10 2     5     5     5     3     4     6     4     3     1      4.25   4.333333"
            ]
          },
          "metadata": {}
        }
      ]
    },
    {
      "cell_type": "markdown",
      "source": [
        "## Raw scores to percentiles\n",
        "\n",
        "Percentile scores are a norm-referenced scoring approach. Based on the distribution of scores in a sample, we can identify how individual scores compare to the rest of the sample. We can even use these to represent benchmarks for future scores, assuming our sample is generalizable to the newly collected data that is (an often-violated assumption).\n",
        "\n",
        "The `quantile()` function helps us identify some benchmarks."
      ],
      "metadata": {
        "id": "RvDs2ngpzlDv"
      }
    },
    {
      "cell_type": "code",
      "source": [
        "## Percentiel benchmarks for Scale1\n",
        "Scoring$Scale1 %>% ## Select Scale1 column\n",
        "  quantile(probs = seq(from = .1, to = .9, by = .1)) %>% ## Find percentiles\n",
        "  round(2) %>%\n",
        "  as.data.frame() ## Put into table"
      ],
      "metadata": {
        "colab": {
          "base_uri": "https://localhost:8080/",
          "height": 397
        },
        "id": "u-0ebAHV1qtu",
        "outputId": "df9ceab3-a945-4d1f-c92e-8fdb2ef0876a"
      },
      "execution_count": 25,
      "outputs": [
        {
          "output_type": "display_data",
          "data": {
            "text/html": [
              "<table class=\"dataframe\">\n",
              "<caption>A data.frame: 9 × 1</caption>\n",
              "<thead>\n",
              "\t<tr><th></th><th scope=col>.</th></tr>\n",
              "\t<tr><th></th><th scope=col>&lt;dbl&gt;</th></tr>\n",
              "</thead>\n",
              "<tbody>\n",
              "\t<tr><th scope=row>10%</th><td>1.73</td></tr>\n",
              "\t<tr><th scope=row>20%</th><td>2.45</td></tr>\n",
              "\t<tr><th scope=row>30%</th><td>2.75</td></tr>\n",
              "\t<tr><th scope=row>40%</th><td>3.50</td></tr>\n",
              "\t<tr><th scope=row>50%</th><td>4.12</td></tr>\n",
              "\t<tr><th scope=row>60%</th><td>4.75</td></tr>\n",
              "\t<tr><th scope=row>70%</th><td>5.00</td></tr>\n",
              "\t<tr><th scope=row>80%</th><td>5.50</td></tr>\n",
              "\t<tr><th scope=row>90%</th><td>6.03</td></tr>\n",
              "</tbody>\n",
              "</table>\n"
            ],
            "text/markdown": "\nA data.frame: 9 × 1\n\n| <!--/--> | . &lt;dbl&gt; |\n|---|---|\n| 10% | 1.73 |\n| 20% | 2.45 |\n| 30% | 2.75 |\n| 40% | 3.50 |\n| 50% | 4.12 |\n| 60% | 4.75 |\n| 70% | 5.00 |\n| 80% | 5.50 |\n| 90% | 6.03 |\n\n",
            "text/latex": "A data.frame: 9 × 1\n\\begin{tabular}{r|l}\n  & .\\\\\n  & <dbl>\\\\\n\\hline\n\t10\\% & 1.73\\\\\n\t20\\% & 2.45\\\\\n\t30\\% & 2.75\\\\\n\t40\\% & 3.50\\\\\n\t50\\% & 4.12\\\\\n\t60\\% & 4.75\\\\\n\t70\\% & 5.00\\\\\n\t80\\% & 5.50\\\\\n\t90\\% & 6.03\\\\\n\\end{tabular}\n",
            "text/plain": [
              "    .   \n",
              "10% 1.73\n",
              "20% 2.45\n",
              "30% 2.75\n",
              "40% 3.50\n",
              "50% 4.12\n",
              "60% 4.75\n",
              "70% 5.00\n",
              "80% 5.50\n",
              "90% 6.03"
            ]
          },
          "metadata": {}
        }
      ]
    },
    {
      "cell_type": "code",
      "source": [
        "## Percentiel benchmarks for Scale2\n",
        "Scoring$Scale2 %>% ## Select Scale2 column\n",
        "  quantile(probs = seq(from = .1, to = .9, by = .1)) %>% ## Find percentiles\n",
        "  round(2) %>%\n",
        "  as.data.frame() ## Put into table"
      ],
      "metadata": {
        "colab": {
          "base_uri": "https://localhost:8080/",
          "height": 397
        },
        "id": "ou6d7Hz72A_M",
        "outputId": "51448066-cf29-4b9a-ea60-6d1ac1821185"
      },
      "execution_count": 24,
      "outputs": [
        {
          "output_type": "display_data",
          "data": {
            "text/html": [
              "<table class=\"dataframe\">\n",
              "<caption>A data.frame: 9 × 1</caption>\n",
              "<thead>\n",
              "\t<tr><th></th><th scope=col>.</th></tr>\n",
              "\t<tr><th></th><th scope=col>&lt;dbl&gt;</th></tr>\n",
              "</thead>\n",
              "<tbody>\n",
              "\t<tr><th scope=row>10%</th><td>1.67</td></tr>\n",
              "\t<tr><th scope=row>20%</th><td>2.33</td></tr>\n",
              "\t<tr><th scope=row>30%</th><td>3.00</td></tr>\n",
              "\t<tr><th scope=row>40%</th><td>3.33</td></tr>\n",
              "\t<tr><th scope=row>50%</th><td>4.00</td></tr>\n",
              "\t<tr><th scope=row>60%</th><td>4.67</td></tr>\n",
              "\t<tr><th scope=row>70%</th><td>5.00</td></tr>\n",
              "\t<tr><th scope=row>80%</th><td>5.67</td></tr>\n",
              "\t<tr><th scope=row>90%</th><td>6.33</td></tr>\n",
              "</tbody>\n",
              "</table>\n"
            ],
            "text/markdown": "\nA data.frame: 9 × 1\n\n| <!--/--> | . &lt;dbl&gt; |\n|---|---|\n| 10% | 1.67 |\n| 20% | 2.33 |\n| 30% | 3.00 |\n| 40% | 3.33 |\n| 50% | 4.00 |\n| 60% | 4.67 |\n| 70% | 5.00 |\n| 80% | 5.67 |\n| 90% | 6.33 |\n\n",
            "text/latex": "A data.frame: 9 × 1\n\\begin{tabular}{r|l}\n  & .\\\\\n  & <dbl>\\\\\n\\hline\n\t10\\% & 1.67\\\\\n\t20\\% & 2.33\\\\\n\t30\\% & 3.00\\\\\n\t40\\% & 3.33\\\\\n\t50\\% & 4.00\\\\\n\t60\\% & 4.67\\\\\n\t70\\% & 5.00\\\\\n\t80\\% & 5.67\\\\\n\t90\\% & 6.33\\\\\n\\end{tabular}\n",
            "text/plain": [
              "    .   \n",
              "10% 1.67\n",
              "20% 2.33\n",
              "30% 3.00\n",
              "40% 3.33\n",
              "50% 4.00\n",
              "60% 4.67\n",
              "70% 5.00\n",
              "80% 5.67\n",
              "90% 6.33"
            ]
          },
          "metadata": {}
        }
      ]
    },
    {
      "cell_type": "markdown",
      "source": [
        "## Interpretation\n",
        "\n",
        "We have created our norm-referenced scoring system. First, we created a subscale score based on the items best representing each latent factor. Then, we identified the raw scores associated with certain percentiles. For example, in Scale1, receiving a score of 1.73 means that this score is higher than 10% of the norming sample. Assuming we have a generalizable norm, it would be extended to claim that the score of 1.73 is greater than 10% of respondents.\n",
        "\n",
        "Notice the non-equal intervals between percentiles. In Scale1, the difference between the 60th and 70th percentiles is 0.25 but the difference between the 70th and 80th percentiles is 0.50, double the difference! These percentile scores do not have an inherent interpretation, we must interpret each percentile score *in reference to the sample we created these norms in*."
      ],
      "metadata": {
        "id": "6_T4kH_Z2LX9"
      }
    }
  ]
}