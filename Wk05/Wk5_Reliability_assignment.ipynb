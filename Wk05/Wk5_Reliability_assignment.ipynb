{
  "nbformat": 4,
  "nbformat_minor": 0,
  "metadata": {
    "colab": {
      "provenance": []
    },
    "kernelspec": {
      "name": "ir",
      "display_name": "R"
    },
    "language_info": {
      "name": "R"
    }
  },
  "cells": [
    {
      "cell_type": "markdown",
      "source": [
        "# Overview\n",
        "\n",
        "This assignment will provide the guiding structure for you to analyze reliability in your own psychometric assessments. Based on the demonstration and your previous assignments, complete this notebook using your psychometric test data."
      ],
      "metadata": {
        "id": "3WzfUMsjaQg2"
      }
    },
    {
      "cell_type": "markdown",
      "source": [
        "## 1) Load packages\n",
        "\n",
        "In separate chunks of code, (a) install the `psych` package and (b) load the `psych` and `tidyverse` packages.\n",
        "\n",
        "Let's first install the `psych` package.\n",
        "\n",
        "Then, in a separate chunk of code, load the `tidyverse` and `psych` packages."
      ],
      "metadata": {
        "id": "JO_thr0IafOD"
      }
    },
    {
      "cell_type": "code",
      "execution_count": null,
      "metadata": {
        "id": "Jk3CKSCbaJ2L"
      },
      "outputs": [],
      "source": [
        "## Install psych package\n"
      ]
    },
    {
      "cell_type": "code",
      "source": [
        "## Load tidyverse and psych packages\n"
      ],
      "metadata": {
        "id": "7ZrzFNTnapx1"
      },
      "execution_count": null,
      "outputs": []
    },
    {
      "cell_type": "markdown",
      "source": [
        "## Load your data\n",
        "\n",
        "Remember, each group was given a unique identifier for their items. This identifier will be how we specifically extract *your* group's data (i.e., items). This first chunk will load all of the data from our class survey.\n",
        "\n",
        "**Data Structure**\n",
        "- These data are in \"wide\" format wherein each respondent is placed on a row and their columns represent responses to each question/variable.\n",
        "\n",
        "- All items have been recoded into numeric values for you. The lowest response option (e.g., \"Strongly disagree\") was converted to a 1 and the highest (e.g., \"Strongly agree\") to the highest value (e.g., 5 or 7).\n",
        "\n",
        "- Columns represent individual items/variables."
      ],
      "metadata": {
        "id": "tHFy2Sqaar1f"
      }
    },
    {
      "cell_type": "code",
      "source": [
        "## Load data\n",
        "## Set the URL to Casey's GitHub page where the dataset is located\n",
        "FileURL <- \"https://raw.githubusercontent.com/CaseyGio/Psyc6263/refs/heads/main/Datasets/QualtricsData.csv\"\n",
        "\n",
        "## Read the csv file from GitHub and create a new object\n",
        "QualtricsData <- read_csv(url(FileURL))\n",
        "\n",
        "## View the first few rows of data\n",
        "QualtricsData %>% head(n = 10)"
      ],
      "metadata": {
        "id": "FELlHKAQa3Ye"
      },
      "execution_count": null,
      "outputs": []
    },
    {
      "cell_type": "markdown",
      "source": [
        "## Data cleaning\n",
        "\n",
        "There is one step everybody will take and an optional step if you need to reverse code any items.\n",
        "\n",
        "## 2) Subset the data\n",
        "\n",
        "Using the `starts_with(\"\")` function, create a data object that ONLY includes your group's psychometric assessment.\n",
        "\n",
        "## 2b) Reverse code items\n",
        "\n",
        "See the demonstration for an example of reverse coding. Ensure that you do this before we calculate reliability later."
      ],
      "metadata": {
        "id": "I0tgvacna9Ob"
      }
    },
    {
      "cell_type": "code",
      "source": [
        "## Subset and reverse code necessary items\n"
      ],
      "metadata": {
        "id": "qEhlsKaJbg3z"
      },
      "execution_count": null,
      "outputs": []
    },
    {
      "cell_type": "markdown",
      "source": [
        "## Reliability estimation\n",
        "\n",
        "In this section, we'll calculate the reliability of our assessments using Cronbach's $\\alpha$.\n",
        "\n",
        "## 3) Calculate the standardized Cronbach's $\\alpha$ internal consistency reliability\n",
        "\n",
        "You may use the `alpha()` function to do this. Note that there are functions with the same name in other packages. If you encounter an error, try the following: `psych::alpha()`. This will tell R that we specifically want to use the function found within the psych package.\n",
        "\n",
        "**Note**: Some assessments may have messy constructs or items. You may see the following statement at the top of your alpha output: \"Some items ([items]) were negatively correlated with the first principal component andprobably should be reversed\". This means that some items, as they are, may be negatively related to the underlying construct you are trying to measure. Maybe you forgot to reverse code an item. Maybe that item is correctly coded but doesn't measure the same construct as the other items.\n",
        "\n",
        "Use the following argument to automatically reverse items to maximize reliability: `psych::alpha([YourObject], check.keys = TRUE)`. Replace [YourObject] with the name of the object created above that only includes your items. The check.keys = TRUE argument will reverse code items and help you out.\n",
        "\n"
      ],
      "metadata": {
        "id": "aEAoKgTgbj2t"
      }
    },
    {
      "cell_type": "code",
      "source": [
        "## Calculate Cronbach's alpha\n"
      ],
      "metadata": {
        "id": "JX3r43xtbjkF"
      },
      "execution_count": null,
      "outputs": []
    },
    {
      "cell_type": "markdown",
      "source": [
        "## 4) Interpret the reliability value and the alpha if item is dropped section\n",
        "\n",
        "Remember that there are multiple parts of the output to focus on.\n",
        "\n",
        "a) Interpret what our reliability value (i.e., standardized Cronbach's $\\alpha$) is trying to convey to us using the Classical Test Theory framework.\n",
        "\n",
        "b) Interpret what the 'alpha if item is dropped' section is telling us. Should we drop any items? If so, which item(s)? Defend your answer. (This is not a trick question, you may say \"no\" as long as you justify why.)"
      ],
      "metadata": {
        "id": "BA9vUrsBdKVj"
      }
    },
    {
      "cell_type": "markdown",
      "source": [
        "[You may edit this textbox to answer the question]"
      ],
      "metadata": {
        "id": "f7FQwHgPfLn1"
      }
    },
    {
      "cell_type": "markdown",
      "source": [
        "## Revision and re-analysis\n",
        "\n",
        "Between our item analyses and our reliability analyses, we may have identified some potentially problematic items. Maybe the same or different items were potentially problematic across those analyses. Let's explore our assessments if we drop some of these items.\n",
        "\n",
        "## 5) Drop potentially problematic items from your assessment and recalculate alpha\n",
        "\n",
        "Remember, to remove items, you can use the `select()` function with the minus (i.e., `-`) symbol before the column names. This will subtract the items from our dataset. Save these new data to an object and re-analyze the reliability of this shortened scale.\n"
      ],
      "metadata": {
        "id": "D-gSFOaLdrUQ"
      }
    },
    {
      "cell_type": "code",
      "source": [
        "## Drop items\n",
        "\n",
        "## Calculate reliability\n"
      ],
      "metadata": {
        "id": "_xuREQ6DeYWg"
      },
      "execution_count": null,
      "outputs": []
    },
    {
      "cell_type": "markdown",
      "source": [
        "## 6) Interpret and reflect upon your re-analyses\n",
        "\n",
        "Based on (a) the reliability of the full assessment and (b) the reliability of the shortened assessment, summarize your findings.\n",
        "\n",
        "a) Which items, if any, weakened the reliability of our assessment?\n",
        "\n",
        "b) Did the item-analyses and reliability analyses suggest that the same or different items were potentially problematic?\n",
        "\n"
      ],
      "metadata": {
        "id": "2oRRFzTPecj6"
      }
    },
    {
      "cell_type": "markdown",
      "source": [
        "[You may edit this textbox to answer the question]"
      ],
      "metadata": {
        "id": "gdwMtSLEfHgY"
      }
    }
  ]
}