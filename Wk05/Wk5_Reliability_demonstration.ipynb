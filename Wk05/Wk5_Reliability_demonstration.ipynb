{
  "nbformat": 4,
  "nbformat_minor": 0,
  "metadata": {
    "colab": {
      "provenance": []
    },
    "kernelspec": {
      "name": "ir",
      "display_name": "R"
    },
    "language_info": {
      "name": "R"
    }
  },
  "cells": [
    {
      "cell_type": "markdown",
      "source": [
        "# Reliability analyses\n",
        "\n",
        "In this demonstration, we shall cover Cronbach's $\\alpha$ and how it relates to our psychometric assessments.\n",
        "\n",
        "What we will be covering:\n",
        "\n",
        "- What is Cronbach's $\\alpha$ conceptually\n",
        "\n",
        "- Examine the impact of item inter-correlations\n",
        "\n",
        "- How to remove items and re-analyze $\\alpha$"
      ],
      "metadata": {
        "id": "b3Kic-ym_ewO"
      }
    },
    {
      "cell_type": "markdown",
      "source": [
        "## Loading packages\n",
        "\n",
        "Continuing our trend, we'll primarily use two packages, the latter of which we will need to first install:\n",
        "\n",
        "- `tidyverse`\n",
        "\n",
        "- `psych`"
      ],
      "metadata": {
        "id": "49Mqu8hH_-Tl"
      }
    },
    {
      "cell_type": "code",
      "execution_count": 1,
      "metadata": {
        "colab": {
          "base_uri": "https://localhost:8080/"
        },
        "id": "H6USQuXl_cUW",
        "outputId": "f673792a-bd16-41c0-ff59-b38a3e6a37ec"
      },
      "outputs": [
        {
          "output_type": "stream",
          "name": "stderr",
          "text": [
            "Installing package into ‘/usr/local/lib/R/site-library’\n",
            "(as ‘lib’ is unspecified)\n",
            "\n",
            "also installing the dependencies ‘mnormt’, ‘GPArotation’\n",
            "\n",
            "\n"
          ]
        }
      ],
      "source": [
        "## Install psych package\n",
        "install.packages(\"psych\")"
      ]
    },
    {
      "cell_type": "code",
      "source": [
        "## Load packages\n",
        "library(tidyverse)\n",
        "library(psych)"
      ],
      "metadata": {
        "colab": {
          "base_uri": "https://localhost:8080/"
        },
        "id": "gu-UiaUDAO-7",
        "outputId": "f0630625-1e01-40b0-b7ba-430868f21b67"
      },
      "execution_count": 3,
      "outputs": [
        {
          "output_type": "stream",
          "name": "stderr",
          "text": [
            "── \u001b[1mAttaching core tidyverse packages\u001b[22m ──────────────────────── tidyverse 2.0.0 ──\n",
            "\u001b[32m✔\u001b[39m \u001b[34mdplyr    \u001b[39m 1.1.4     \u001b[32m✔\u001b[39m \u001b[34mreadr    \u001b[39m 2.1.5\n",
            "\u001b[32m✔\u001b[39m \u001b[34mforcats  \u001b[39m 1.0.0     \u001b[32m✔\u001b[39m \u001b[34mstringr  \u001b[39m 1.5.1\n",
            "\u001b[32m✔\u001b[39m \u001b[34mggplot2  \u001b[39m 3.5.2     \u001b[32m✔\u001b[39m \u001b[34mtibble   \u001b[39m 3.3.0\n",
            "\u001b[32m✔\u001b[39m \u001b[34mlubridate\u001b[39m 1.9.4     \u001b[32m✔\u001b[39m \u001b[34mtidyr    \u001b[39m 1.3.1\n",
            "\u001b[32m✔\u001b[39m \u001b[34mpurrr    \u001b[39m 1.0.4     \n",
            "── \u001b[1mConflicts\u001b[22m ────────────────────────────────────────── tidyverse_conflicts() ──\n",
            "\u001b[31m✖\u001b[39m \u001b[34mdplyr\u001b[39m::\u001b[32mfilter()\u001b[39m masks \u001b[34mstats\u001b[39m::filter()\n",
            "\u001b[31m✖\u001b[39m \u001b[34mdplyr\u001b[39m::\u001b[32mlag()\u001b[39m    masks \u001b[34mstats\u001b[39m::lag()\n",
            "\u001b[36mℹ\u001b[39m Use the conflicted package (\u001b[3m\u001b[34m<http://conflicted.r-lib.org/>\u001b[39m\u001b[23m) to force all conflicts to become errors\n",
            "\n",
            "Attaching package: ‘psych’\n",
            "\n",
            "\n",
            "The following objects are masked from ‘package:ggplot2’:\n",
            "\n",
            "    %+%, alpha\n",
            "\n",
            "\n"
          ]
        }
      ]
    },
    {
      "cell_type": "markdown",
      "source": [
        "## Data description\n",
        "\n",
        "Our data for today are based on a real dataset found inside the `psych` package. The `bfi` dataset includes 25 personality items representing the Big Five personality traits (i.e., five items for each trait). We will take a look at the Agreeableness items as our representative items in this demonstration.\n",
        "\n",
        "**Agreeableness items**\n",
        "\n",
        "| Item Code   | Item Text                                                                 |\n",
        "|-------------|---------------------------------------------------------------------------|\n",
        "| A1   | Am indifferent to the feelings of others (*to reverse code*).                                  |\n",
        "| A2   | Inquire about others' well-being.                               |\n",
        "| A3   | Know how to comfort others.                                          |\n",
        "| A4   | Love children.                    |\n",
        "| A5   | Make people feel at ease.                |\n",
        "\n",
        "**Response format:**\n",
        "\n",
        "All items are scored using the same response scale format from a 1 (low) to 6 (high) scale.\n",
        "\n",
        "You can actually take the personality assessment by following this link: https://www.sapa-project.org/"
      ],
      "metadata": {
        "id": "i6CAAo9MATTi"
      }
    },
    {
      "cell_type": "code",
      "source": [
        "## Load data\n",
        "data(bfi)\n",
        "\n",
        "## Check out the dataset\n",
        "head(bfi, n = 10)"
      ],
      "metadata": {
        "colab": {
          "base_uri": "https://localhost:8080/",
          "height": 411
        },
        "id": "IafGvRjzBQ43",
        "outputId": "99bffe7a-d05c-431c-d43d-4aa66f425902"
      },
      "execution_count": 25,
      "outputs": [
        {
          "output_type": "display_data",
          "data": {
            "text/html": [
              "<table class=\"dataframe\">\n",
              "<caption>A data.frame: 10 × 28</caption>\n",
              "<thead>\n",
              "\t<tr><th></th><th scope=col>A1</th><th scope=col>A2</th><th scope=col>A3</th><th scope=col>A4</th><th scope=col>A5</th><th scope=col>C1</th><th scope=col>C2</th><th scope=col>C3</th><th scope=col>C4</th><th scope=col>C5</th><th scope=col>⋯</th><th scope=col>N4</th><th scope=col>N5</th><th scope=col>O1</th><th scope=col>O2</th><th scope=col>O3</th><th scope=col>O4</th><th scope=col>O5</th><th scope=col>gender</th><th scope=col>education</th><th scope=col>age</th></tr>\n",
              "\t<tr><th></th><th scope=col>&lt;int&gt;</th><th scope=col>&lt;int&gt;</th><th scope=col>&lt;int&gt;</th><th scope=col>&lt;int&gt;</th><th scope=col>&lt;int&gt;</th><th scope=col>&lt;int&gt;</th><th scope=col>&lt;int&gt;</th><th scope=col>&lt;int&gt;</th><th scope=col>&lt;int&gt;</th><th scope=col>&lt;int&gt;</th><th scope=col>⋯</th><th scope=col>&lt;int&gt;</th><th scope=col>&lt;int&gt;</th><th scope=col>&lt;int&gt;</th><th scope=col>&lt;int&gt;</th><th scope=col>&lt;int&gt;</th><th scope=col>&lt;int&gt;</th><th scope=col>&lt;int&gt;</th><th scope=col>&lt;int&gt;</th><th scope=col>&lt;int&gt;</th><th scope=col>&lt;int&gt;</th></tr>\n",
              "</thead>\n",
              "<tbody>\n",
              "\t<tr><th scope=row>61617</th><td>2</td><td>4</td><td>3</td><td>4</td><td>4</td><td>2</td><td>3</td><td>3</td><td>4</td><td>4</td><td>⋯</td><td>2</td><td>3</td><td>3</td><td>6</td><td>3</td><td>4</td><td>3</td><td>1</td><td>NA</td><td>16</td></tr>\n",
              "\t<tr><th scope=row>61618</th><td>2</td><td>4</td><td>5</td><td>2</td><td>5</td><td>5</td><td>4</td><td>4</td><td>3</td><td>4</td><td>⋯</td><td>5</td><td>5</td><td>4</td><td>2</td><td>4</td><td>3</td><td>3</td><td>2</td><td>NA</td><td>18</td></tr>\n",
              "\t<tr><th scope=row>61620</th><td>5</td><td>4</td><td>5</td><td>4</td><td>4</td><td>4</td><td>5</td><td>4</td><td>2</td><td>5</td><td>⋯</td><td>2</td><td>3</td><td>4</td><td>2</td><td>5</td><td>5</td><td>2</td><td>2</td><td>NA</td><td>17</td></tr>\n",
              "\t<tr><th scope=row>61621</th><td>4</td><td>4</td><td>6</td><td>5</td><td>5</td><td>4</td><td>4</td><td>3</td><td>5</td><td>5</td><td>⋯</td><td>4</td><td>1</td><td>3</td><td>3</td><td>4</td><td>3</td><td>5</td><td>2</td><td>NA</td><td>17</td></tr>\n",
              "\t<tr><th scope=row>61622</th><td>2</td><td>3</td><td>3</td><td>4</td><td>5</td><td>4</td><td>4</td><td>5</td><td>3</td><td>2</td><td>⋯</td><td>4</td><td>3</td><td>3</td><td>3</td><td>4</td><td>3</td><td>3</td><td>1</td><td>NA</td><td>17</td></tr>\n",
              "\t<tr><th scope=row>61623</th><td>6</td><td>6</td><td>5</td><td>6</td><td>5</td><td>6</td><td>6</td><td>6</td><td>1</td><td>3</td><td>⋯</td><td>2</td><td>3</td><td>4</td><td>3</td><td>5</td><td>6</td><td>1</td><td>2</td><td> 3</td><td>21</td></tr>\n",
              "\t<tr><th scope=row>61624</th><td>2</td><td>5</td><td>5</td><td>3</td><td>5</td><td>5</td><td>4</td><td>4</td><td>2</td><td>3</td><td>⋯</td><td>1</td><td>1</td><td>5</td><td>2</td><td>5</td><td>6</td><td>1</td><td>1</td><td>NA</td><td>18</td></tr>\n",
              "\t<tr><th scope=row>61629</th><td>4</td><td>3</td><td>1</td><td>5</td><td>1</td><td>3</td><td>2</td><td>4</td><td>2</td><td>4</td><td>⋯</td><td>6</td><td>4</td><td>3</td><td>2</td><td>4</td><td>5</td><td>3</td><td>1</td><td> 2</td><td>19</td></tr>\n",
              "\t<tr><th scope=row>61630</th><td>4</td><td>3</td><td>6</td><td>3</td><td>3</td><td>6</td><td>6</td><td>3</td><td>4</td><td>5</td><td>⋯</td><td>3</td><td>3</td><td>6</td><td>6</td><td>6</td><td>6</td><td>1</td><td>1</td><td> 1</td><td>19</td></tr>\n",
              "\t<tr><th scope=row>61633</th><td>2</td><td>5</td><td>6</td><td>6</td><td>5</td><td>6</td><td>5</td><td>6</td><td>2</td><td>1</td><td>⋯</td><td>2</td><td>4</td><td>5</td><td>1</td><td>5</td><td>5</td><td>2</td><td>2</td><td>NA</td><td>17</td></tr>\n",
              "</tbody>\n",
              "</table>\n"
            ],
            "text/markdown": "\nA data.frame: 10 × 28\n\n| <!--/--> | A1 &lt;int&gt; | A2 &lt;int&gt; | A3 &lt;int&gt; | A4 &lt;int&gt; | A5 &lt;int&gt; | C1 &lt;int&gt; | C2 &lt;int&gt; | C3 &lt;int&gt; | C4 &lt;int&gt; | C5 &lt;int&gt; | ⋯ ⋯ | N4 &lt;int&gt; | N5 &lt;int&gt; | O1 &lt;int&gt; | O2 &lt;int&gt; | O3 &lt;int&gt; | O4 &lt;int&gt; | O5 &lt;int&gt; | gender &lt;int&gt; | education &lt;int&gt; | age &lt;int&gt; |\n|---|---|---|---|---|---|---|---|---|---|---|---|---|---|---|---|---|---|---|---|---|---|\n| 61617 | 2 | 4 | 3 | 4 | 4 | 2 | 3 | 3 | 4 | 4 | ⋯ | 2 | 3 | 3 | 6 | 3 | 4 | 3 | 1 | NA | 16 |\n| 61618 | 2 | 4 | 5 | 2 | 5 | 5 | 4 | 4 | 3 | 4 | ⋯ | 5 | 5 | 4 | 2 | 4 | 3 | 3 | 2 | NA | 18 |\n| 61620 | 5 | 4 | 5 | 4 | 4 | 4 | 5 | 4 | 2 | 5 | ⋯ | 2 | 3 | 4 | 2 | 5 | 5 | 2 | 2 | NA | 17 |\n| 61621 | 4 | 4 | 6 | 5 | 5 | 4 | 4 | 3 | 5 | 5 | ⋯ | 4 | 1 | 3 | 3 | 4 | 3 | 5 | 2 | NA | 17 |\n| 61622 | 2 | 3 | 3 | 4 | 5 | 4 | 4 | 5 | 3 | 2 | ⋯ | 4 | 3 | 3 | 3 | 4 | 3 | 3 | 1 | NA | 17 |\n| 61623 | 6 | 6 | 5 | 6 | 5 | 6 | 6 | 6 | 1 | 3 | ⋯ | 2 | 3 | 4 | 3 | 5 | 6 | 1 | 2 |  3 | 21 |\n| 61624 | 2 | 5 | 5 | 3 | 5 | 5 | 4 | 4 | 2 | 3 | ⋯ | 1 | 1 | 5 | 2 | 5 | 6 | 1 | 1 | NA | 18 |\n| 61629 | 4 | 3 | 1 | 5 | 1 | 3 | 2 | 4 | 2 | 4 | ⋯ | 6 | 4 | 3 | 2 | 4 | 5 | 3 | 1 |  2 | 19 |\n| 61630 | 4 | 3 | 6 | 3 | 3 | 6 | 6 | 3 | 4 | 5 | ⋯ | 3 | 3 | 6 | 6 | 6 | 6 | 1 | 1 |  1 | 19 |\n| 61633 | 2 | 5 | 6 | 6 | 5 | 6 | 5 | 6 | 2 | 1 | ⋯ | 2 | 4 | 5 | 1 | 5 | 5 | 2 | 2 | NA | 17 |\n\n",
            "text/latex": "A data.frame: 10 × 28\n\\begin{tabular}{r|lllllllllllllllllllll}\n  & A1 & A2 & A3 & A4 & A5 & C1 & C2 & C3 & C4 & C5 & ⋯ & N4 & N5 & O1 & O2 & O3 & O4 & O5 & gender & education & age\\\\\n  & <int> & <int> & <int> & <int> & <int> & <int> & <int> & <int> & <int> & <int> & ⋯ & <int> & <int> & <int> & <int> & <int> & <int> & <int> & <int> & <int> & <int>\\\\\n\\hline\n\t61617 & 2 & 4 & 3 & 4 & 4 & 2 & 3 & 3 & 4 & 4 & ⋯ & 2 & 3 & 3 & 6 & 3 & 4 & 3 & 1 & NA & 16\\\\\n\t61618 & 2 & 4 & 5 & 2 & 5 & 5 & 4 & 4 & 3 & 4 & ⋯ & 5 & 5 & 4 & 2 & 4 & 3 & 3 & 2 & NA & 18\\\\\n\t61620 & 5 & 4 & 5 & 4 & 4 & 4 & 5 & 4 & 2 & 5 & ⋯ & 2 & 3 & 4 & 2 & 5 & 5 & 2 & 2 & NA & 17\\\\\n\t61621 & 4 & 4 & 6 & 5 & 5 & 4 & 4 & 3 & 5 & 5 & ⋯ & 4 & 1 & 3 & 3 & 4 & 3 & 5 & 2 & NA & 17\\\\\n\t61622 & 2 & 3 & 3 & 4 & 5 & 4 & 4 & 5 & 3 & 2 & ⋯ & 4 & 3 & 3 & 3 & 4 & 3 & 3 & 1 & NA & 17\\\\\n\t61623 & 6 & 6 & 5 & 6 & 5 & 6 & 6 & 6 & 1 & 3 & ⋯ & 2 & 3 & 4 & 3 & 5 & 6 & 1 & 2 &  3 & 21\\\\\n\t61624 & 2 & 5 & 5 & 3 & 5 & 5 & 4 & 4 & 2 & 3 & ⋯ & 1 & 1 & 5 & 2 & 5 & 6 & 1 & 1 & NA & 18\\\\\n\t61629 & 4 & 3 & 1 & 5 & 1 & 3 & 2 & 4 & 2 & 4 & ⋯ & 6 & 4 & 3 & 2 & 4 & 5 & 3 & 1 &  2 & 19\\\\\n\t61630 & 4 & 3 & 6 & 3 & 3 & 6 & 6 & 3 & 4 & 5 & ⋯ & 3 & 3 & 6 & 6 & 6 & 6 & 1 & 1 &  1 & 19\\\\\n\t61633 & 2 & 5 & 6 & 6 & 5 & 6 & 5 & 6 & 2 & 1 & ⋯ & 2 & 4 & 5 & 1 & 5 & 5 & 2 & 2 & NA & 17\\\\\n\\end{tabular}\n",
            "text/plain": [
              "      A1 A2 A3 A4 A5 C1 C2 C3 C4 C5 ⋯ N4 N5 O1 O2 O3 O4 O5 gender education age\n",
              "61617 2  4  3  4  4  2  3  3  4  4  ⋯ 2  3  3  6  3  4  3  1      NA        16 \n",
              "61618 2  4  5  2  5  5  4  4  3  4  ⋯ 5  5  4  2  4  3  3  2      NA        18 \n",
              "61620 5  4  5  4  4  4  5  4  2  5  ⋯ 2  3  4  2  5  5  2  2      NA        17 \n",
              "61621 4  4  6  5  5  4  4  3  5  5  ⋯ 4  1  3  3  4  3  5  2      NA        17 \n",
              "61622 2  3  3  4  5  4  4  5  3  2  ⋯ 4  3  3  3  4  3  3  1      NA        17 \n",
              "61623 6  6  5  6  5  6  6  6  1  3  ⋯ 2  3  4  3  5  6  1  2       3        21 \n",
              "61624 2  5  5  3  5  5  4  4  2  3  ⋯ 1  1  5  2  5  6  1  1      NA        18 \n",
              "61629 4  3  1  5  1  3  2  4  2  4  ⋯ 6  4  3  2  4  5  3  1       2        19 \n",
              "61630 4  3  6  3  3  6  6  3  4  5  ⋯ 3  3  6  6  6  6  1  1       1        19 \n",
              "61633 2  5  6  6  5  6  5  6  2  1  ⋯ 2  4  5  1  5  5  2  2      NA        17 "
            ]
          },
          "metadata": {}
        }
      ]
    },
    {
      "cell_type": "markdown",
      "source": [
        "## Data cleaning\n",
        "\n",
        "We will prepare our data according to what our specific needs are for this demonstration.\n",
        "\n",
        "- *I* will add a new column representing the composite/total score. This is for item-analysis purposes, you won't need this in your assignment because you did this previously.\n",
        "\n",
        "- I have an item that requires reverse coding, which is critical to actually reverse code.\n",
        "\n",
        "**Remember to reverse code items if necessary**\n",
        "\n",
        "This step is very important for calculating Cronbach's $\\alpha$. Remember that $\\alpha$ entails calculation of the average correlation between all items. If an item is NOT reverse coded but should be, that negative correlation is going to severely decrease our average item correlations! This is a big issue and will produce very problematic reliability values!"
      ],
      "metadata": {
        "id": "b8pNjcqABWi7"
      }
    },
    {
      "cell_type": "code",
      "source": [
        "## Remove two items from the dataset\n",
        "bfiClean <-\n",
        "  bfi %>%\n",
        "  select(starts_with(\"A\"), -age) %>%        ## Select agreeableness items\n",
        "  mutate(A1 = 7 - A1) %>%                   ## Reverse code item 1\n",
        "  mutate(Total = rowMeans(., na.rm = TRUE)) ## Create total score"
      ],
      "metadata": {
        "id": "ljYHDP2mBQ4Z"
      },
      "execution_count": 28,
      "outputs": []
    },
    {
      "cell_type": "markdown",
      "source": [
        "## Item analyses: difficulty\n",
        "\n",
        "You have already done this step. Given a new dataset, it is imparative that I conduct this step to identify potentially issues in our items. These items were already pre-selected and pilot tested so it is not a surprise that these items perform well."
      ],
      "metadata": {
        "id": "N8zXQ48eH43f"
      }
    },
    {
      "cell_type": "code",
      "source": [
        "## Item analyses\n",
        "describe(bfiClean)"
      ],
      "metadata": {
        "colab": {
          "base_uri": "https://localhost:8080/",
          "height": 286
        },
        "id": "JiK7p_UAF9zz",
        "outputId": "15a8dcf0-bd3b-44dc-ae1b-c17856c1037f"
      },
      "execution_count": 29,
      "outputs": [
        {
          "output_type": "display_data",
          "data": {
            "text/html": [
              "<table class=\"dataframe\">\n",
              "<caption>A psych: 6 × 13</caption>\n",
              "<thead>\n",
              "\t<tr><th></th><th scope=col>vars</th><th scope=col>n</th><th scope=col>mean</th><th scope=col>sd</th><th scope=col>median</th><th scope=col>trimmed</th><th scope=col>mad</th><th scope=col>min</th><th scope=col>max</th><th scope=col>range</th><th scope=col>skew</th><th scope=col>kurtosis</th><th scope=col>se</th></tr>\n",
              "\t<tr><th></th><th scope=col>&lt;int&gt;</th><th scope=col>&lt;dbl&gt;</th><th scope=col>&lt;dbl&gt;</th><th scope=col>&lt;dbl&gt;</th><th scope=col>&lt;dbl&gt;</th><th scope=col>&lt;dbl&gt;</th><th scope=col>&lt;dbl&gt;</th><th scope=col>&lt;dbl&gt;</th><th scope=col>&lt;dbl&gt;</th><th scope=col>&lt;dbl&gt;</th><th scope=col>&lt;dbl&gt;</th><th scope=col>&lt;dbl&gt;</th><th scope=col>&lt;dbl&gt;</th></tr>\n",
              "</thead>\n",
              "<tbody>\n",
              "\t<tr><th scope=row>A1</th><td>1</td><td>2784</td><td>4.586566</td><td>1.4077372</td><td>5.0</td><td>4.769749</td><td>1.48260</td><td>1</td><td>6</td><td>5</td><td>-0.8250436</td><td>-0.30763947</td><td>0.02668007</td></tr>\n",
              "\t<tr><th scope=row>A2</th><td>2</td><td>2773</td><td>4.802380</td><td>1.1720199</td><td>5.0</td><td>4.977017</td><td>1.48260</td><td>1</td><td>6</td><td>5</td><td>-1.1242853</td><td> 1.05483862</td><td>0.02225666</td></tr>\n",
              "\t<tr><th scope=row>A3</th><td>3</td><td>2774</td><td>4.603821</td><td>1.3018336</td><td>5.0</td><td>4.788288</td><td>1.48260</td><td>1</td><td>6</td><td>5</td><td>-0.9984568</td><td> 0.44204096</td><td>0.02471737</td></tr>\n",
              "\t<tr><th scope=row>A4</th><td>4</td><td>2781</td><td>4.699748</td><td>1.4796327</td><td>5.0</td><td>4.932584</td><td>1.48260</td><td>1</td><td>6</td><td>5</td><td>-1.0309428</td><td> 0.04045252</td><td>0.02805779</td></tr>\n",
              "\t<tr><th scope=row>A5</th><td>5</td><td>2784</td><td>4.560345</td><td>1.2585121</td><td>5.0</td><td>4.711849</td><td>1.48260</td><td>1</td><td>6</td><td>5</td><td>-0.8472334</td><td> 0.15890562</td><td>0.02385189</td></tr>\n",
              "\t<tr><th scope=row>Total</th><td>6</td><td>2800</td><td>4.652095</td><td>0.8984019</td><td>4.8</td><td>4.725253</td><td>0.88956</td><td>1</td><td>6</td><td>5</td><td>-0.7583658</td><td> 0.39546844</td><td>0.01697820</td></tr>\n",
              "</tbody>\n",
              "</table>\n"
            ],
            "text/markdown": "\nA psych: 6 × 13\n\n| <!--/--> | vars &lt;int&gt; | n &lt;dbl&gt; | mean &lt;dbl&gt; | sd &lt;dbl&gt; | median &lt;dbl&gt; | trimmed &lt;dbl&gt; | mad &lt;dbl&gt; | min &lt;dbl&gt; | max &lt;dbl&gt; | range &lt;dbl&gt; | skew &lt;dbl&gt; | kurtosis &lt;dbl&gt; | se &lt;dbl&gt; |\n|---|---|---|---|---|---|---|---|---|---|---|---|---|---|\n| A1 | 1 | 2784 | 4.586566 | 1.4077372 | 5.0 | 4.769749 | 1.48260 | 1 | 6 | 5 | -0.8250436 | -0.30763947 | 0.02668007 |\n| A2 | 2 | 2773 | 4.802380 | 1.1720199 | 5.0 | 4.977017 | 1.48260 | 1 | 6 | 5 | -1.1242853 |  1.05483862 | 0.02225666 |\n| A3 | 3 | 2774 | 4.603821 | 1.3018336 | 5.0 | 4.788288 | 1.48260 | 1 | 6 | 5 | -0.9984568 |  0.44204096 | 0.02471737 |\n| A4 | 4 | 2781 | 4.699748 | 1.4796327 | 5.0 | 4.932584 | 1.48260 | 1 | 6 | 5 | -1.0309428 |  0.04045252 | 0.02805779 |\n| A5 | 5 | 2784 | 4.560345 | 1.2585121 | 5.0 | 4.711849 | 1.48260 | 1 | 6 | 5 | -0.8472334 |  0.15890562 | 0.02385189 |\n| Total | 6 | 2800 | 4.652095 | 0.8984019 | 4.8 | 4.725253 | 0.88956 | 1 | 6 | 5 | -0.7583658 |  0.39546844 | 0.01697820 |\n\n",
            "text/latex": "A psych: 6 × 13\n\\begin{tabular}{r|lllllllllllll}\n  & vars & n & mean & sd & median & trimmed & mad & min & max & range & skew & kurtosis & se\\\\\n  & <int> & <dbl> & <dbl> & <dbl> & <dbl> & <dbl> & <dbl> & <dbl> & <dbl> & <dbl> & <dbl> & <dbl> & <dbl>\\\\\n\\hline\n\tA1 & 1 & 2784 & 4.586566 & 1.4077372 & 5.0 & 4.769749 & 1.48260 & 1 & 6 & 5 & -0.8250436 & -0.30763947 & 0.02668007\\\\\n\tA2 & 2 & 2773 & 4.802380 & 1.1720199 & 5.0 & 4.977017 & 1.48260 & 1 & 6 & 5 & -1.1242853 &  1.05483862 & 0.02225666\\\\\n\tA3 & 3 & 2774 & 4.603821 & 1.3018336 & 5.0 & 4.788288 & 1.48260 & 1 & 6 & 5 & -0.9984568 &  0.44204096 & 0.02471737\\\\\n\tA4 & 4 & 2781 & 4.699748 & 1.4796327 & 5.0 & 4.932584 & 1.48260 & 1 & 6 & 5 & -1.0309428 &  0.04045252 & 0.02805779\\\\\n\tA5 & 5 & 2784 & 4.560345 & 1.2585121 & 5.0 & 4.711849 & 1.48260 & 1 & 6 & 5 & -0.8472334 &  0.15890562 & 0.02385189\\\\\n\tTotal & 6 & 2800 & 4.652095 & 0.8984019 & 4.8 & 4.725253 & 0.88956 & 1 & 6 & 5 & -0.7583658 &  0.39546844 & 0.01697820\\\\\n\\end{tabular}\n",
            "text/plain": [
              "      vars n    mean     sd        median trimmed  mad     min max range\n",
              "A1    1    2784 4.586566 1.4077372 5.0    4.769749 1.48260 1   6   5    \n",
              "A2    2    2773 4.802380 1.1720199 5.0    4.977017 1.48260 1   6   5    \n",
              "A3    3    2774 4.603821 1.3018336 5.0    4.788288 1.48260 1   6   5    \n",
              "A4    4    2781 4.699748 1.4796327 5.0    4.932584 1.48260 1   6   5    \n",
              "A5    5    2784 4.560345 1.2585121 5.0    4.711849 1.48260 1   6   5    \n",
              "Total 6    2800 4.652095 0.8984019 4.8    4.725253 0.88956 1   6   5    \n",
              "      skew       kurtosis    se        \n",
              "A1    -0.8250436 -0.30763947 0.02668007\n",
              "A2    -1.1242853  1.05483862 0.02225666\n",
              "A3    -0.9984568  0.44204096 0.02471737\n",
              "A4    -1.0309428  0.04045252 0.02805779\n",
              "A5    -0.8472334  0.15890562 0.02385189\n",
              "Total -0.7583658  0.39546844 0.01697820"
            ]
          },
          "metadata": {}
        }
      ]
    },
    {
      "cell_type": "markdown",
      "source": [
        "## Item analyses: Discrimination\n",
        "\n",
        "You've already done this step, too. We are looking to see if any items have a problematic relationship with the overall construct. Do scores appreciably discriminate those higher/lower on the construct--operationalized by the total score here. Again, these items were already pilot tested so we have very good items representing the agreeableness domain. These items discriminate well."
      ],
      "metadata": {
        "id": "RvSaZE-xIhhD"
      }
    },
    {
      "cell_type": "code",
      "source": [
        "## Calculate correlation matrix, emphasizing item-total correlation\n",
        "cor(bfiClean, use = \"pairwise.complete.obs\") %>%\n",
        "  round(2)"
      ],
      "metadata": {
        "colab": {
          "base_uri": "https://localhost:8080/",
          "height": 255
        },
        "id": "YGSfU1nyIWjI",
        "outputId": "71f32a04-ccad-4d19-b78c-671a1db184c1"
      },
      "execution_count": 31,
      "outputs": [
        {
          "output_type": "display_data",
          "data": {
            "text/html": [
              "<table class=\"dataframe\">\n",
              "<caption>A matrix: 6 × 6 of type dbl</caption>\n",
              "<thead>\n",
              "\t<tr><th></th><th scope=col>A1</th><th scope=col>A2</th><th scope=col>A3</th><th scope=col>A4</th><th scope=col>A5</th><th scope=col>Total</th></tr>\n",
              "</thead>\n",
              "<tbody>\n",
              "\t<tr><th scope=row>A1</th><td>1.00</td><td>0.34</td><td>0.27</td><td>0.15</td><td>0.18</td><td>0.58</td></tr>\n",
              "\t<tr><th scope=row>A2</th><td>0.34</td><td>1.00</td><td>0.49</td><td>0.34</td><td>0.39</td><td>0.73</td></tr>\n",
              "\t<tr><th scope=row>A3</th><td>0.27</td><td>0.49</td><td>1.00</td><td>0.36</td><td>0.50</td><td>0.76</td></tr>\n",
              "\t<tr><th scope=row>A4</th><td>0.15</td><td>0.34</td><td>0.36</td><td>1.00</td><td>0.31</td><td>0.65</td></tr>\n",
              "\t<tr><th scope=row>A5</th><td>0.18</td><td>0.39</td><td>0.50</td><td>0.31</td><td>1.00</td><td>0.69</td></tr>\n",
              "\t<tr><th scope=row>Total</th><td>0.58</td><td>0.73</td><td>0.76</td><td>0.65</td><td>0.69</td><td>1.00</td></tr>\n",
              "</tbody>\n",
              "</table>\n"
            ],
            "text/markdown": "\nA matrix: 6 × 6 of type dbl\n\n| <!--/--> | A1 | A2 | A3 | A4 | A5 | Total |\n|---|---|---|---|---|---|---|\n| A1 | 1.00 | 0.34 | 0.27 | 0.15 | 0.18 | 0.58 |\n| A2 | 0.34 | 1.00 | 0.49 | 0.34 | 0.39 | 0.73 |\n| A3 | 0.27 | 0.49 | 1.00 | 0.36 | 0.50 | 0.76 |\n| A4 | 0.15 | 0.34 | 0.36 | 1.00 | 0.31 | 0.65 |\n| A5 | 0.18 | 0.39 | 0.50 | 0.31 | 1.00 | 0.69 |\n| Total | 0.58 | 0.73 | 0.76 | 0.65 | 0.69 | 1.00 |\n\n",
            "text/latex": "A matrix: 6 × 6 of type dbl\n\\begin{tabular}{r|llllll}\n  & A1 & A2 & A3 & A4 & A5 & Total\\\\\n\\hline\n\tA1 & 1.00 & 0.34 & 0.27 & 0.15 & 0.18 & 0.58\\\\\n\tA2 & 0.34 & 1.00 & 0.49 & 0.34 & 0.39 & 0.73\\\\\n\tA3 & 0.27 & 0.49 & 1.00 & 0.36 & 0.50 & 0.76\\\\\n\tA4 & 0.15 & 0.34 & 0.36 & 1.00 & 0.31 & 0.65\\\\\n\tA5 & 0.18 & 0.39 & 0.50 & 0.31 & 1.00 & 0.69\\\\\n\tTotal & 0.58 & 0.73 & 0.76 & 0.65 & 0.69 & 1.00\\\\\n\\end{tabular}\n",
            "text/plain": [
              "      A1   A2   A3   A4   A5   Total\n",
              "A1    1.00 0.34 0.27 0.15 0.18 0.58 \n",
              "A2    0.34 1.00 0.49 0.34 0.39 0.73 \n",
              "A3    0.27 0.49 1.00 0.36 0.50 0.76 \n",
              "A4    0.15 0.34 0.36 1.00 0.31 0.65 \n",
              "A5    0.18 0.39 0.50 0.31 1.00 0.69 \n",
              "Total 0.58 0.73 0.76 0.65 0.69 1.00 "
            ]
          },
          "metadata": {}
        }
      ]
    },
    {
      "cell_type": "markdown",
      "source": [
        "## Cronbach's $\\alpha$ \"by hand\"\n",
        "\n",
        "We can easily compute Cronbach's $\\alpha$ because there are only two elements:\n",
        "\n",
        "1) The number of items, *N* : 5\n",
        "\n",
        "2) The average inter-item correlation, $\\bar{r}$\n",
        "\n",
        "Given these two, we have the following formula:\n",
        "\n",
        "$\\alpha = \\frac{N \\cdot \\bar{r}}{1 + (N - 1) \\cdot \\bar{r}}$"
      ],
      "metadata": {
        "id": "zcUUgGlaTUDf"
      }
    },
    {
      "cell_type": "code",
      "source": [
        "## Let's remove the total score to make the remaining steps easier\n",
        "AgreeItems <- select(bfiClean, -Total)\n",
        "\n",
        "## Create the correlation matrix of the items\n",
        "CorMatrix <- cor(AgreeItems, use = \"pairwise.complete.obs\") ## THere is missing data so we shall ignore those\n",
        "\n",
        "## Extract the lower triangle elements (ignore the 1s on the diagonal)\n",
        "Corrs <- CorMatrix[lower.tri(CorMatrix, diag = FALSE)]\n",
        "\n",
        "## Display the correlations\n",
        "Corrs %>% round(2)"
      ],
      "metadata": {
        "colab": {
          "base_uri": "https://localhost:8080/",
          "height": 34
        },
        "id": "Vy3R-abzTTqZ",
        "outputId": "55e93dfe-490b-44b3-8cda-30535d2159dd"
      },
      "execution_count": 35,
      "outputs": [
        {
          "output_type": "display_data",
          "data": {
            "text/html": [
              "<style>\n",
              ".list-inline {list-style: none; margin:0; padding: 0}\n",
              ".list-inline>li {display: inline-block}\n",
              ".list-inline>li:not(:last-child)::after {content: \"\\00b7\"; padding: 0 .5ex}\n",
              "</style>\n",
              "<ol class=list-inline><li>0.34</li><li>0.27</li><li>0.15</li><li>0.18</li><li>0.49</li><li>0.34</li><li>0.39</li><li>0.36</li><li>0.5</li><li>0.31</li></ol>\n"
            ],
            "text/markdown": "1. 0.34\n2. 0.27\n3. 0.15\n4. 0.18\n5. 0.49\n6. 0.34\n7. 0.39\n8. 0.36\n9. 0.5\n10. 0.31\n\n\n",
            "text/latex": "\\begin{enumerate*}\n\\item 0.34\n\\item 0.27\n\\item 0.15\n\\item 0.18\n\\item 0.49\n\\item 0.34\n\\item 0.39\n\\item 0.36\n\\item 0.5\n\\item 0.31\n\\end{enumerate*}\n",
            "text/plain": [
              " [1] 0.34 0.27 0.15 0.18 0.49 0.34 0.39 0.36 0.50 0.31"
            ]
          },
          "metadata": {}
        }
      ]
    },
    {
      "cell_type": "code",
      "source": [
        "## Calculate the average of these correlations\n",
        "AvgIntItemCor <- mean(Corrs)\n",
        "\n",
        "## Show the value\n",
        "AvgIntItemCor %>% round(2)"
      ],
      "metadata": {
        "colab": {
          "base_uri": "https://localhost:8080/",
          "height": 34
        },
        "id": "liRXBNQgU742",
        "outputId": "530ba0ae-1161-4b95-bf43-1b0348085475"
      },
      "execution_count": 37,
      "outputs": [
        {
          "output_type": "display_data",
          "data": {
            "text/html": [
              "0.33"
            ],
            "text/markdown": "0.33",
            "text/latex": "0.33",
            "text/plain": [
              "[1] 0.33"
            ]
          },
          "metadata": {}
        }
      ]
    },
    {
      "cell_type": "code",
      "source": [
        "## Calculate alpha\n",
        "ALPHA <- (5 * AvgIntItemCor) / (1 + (5 - 1) * AvgIntItemCor)\n",
        "\n",
        "## Show the reliability\n",
        "ALPHA %>% round(2)"
      ],
      "metadata": {
        "colab": {
          "base_uri": "https://localhost:8080/",
          "height": 34
        },
        "id": "Xqn3ZZmQVELX",
        "outputId": "033ea568-682b-4e50-cdeb-7bd000eb3b70"
      },
      "execution_count": 39,
      "outputs": [
        {
          "output_type": "display_data",
          "data": {
            "text/html": [
              "0.71"
            ],
            "text/markdown": "0.71",
            "text/latex": "0.71",
            "text/plain": [
              "[1] 0.71"
            ]
          },
          "metadata": {}
        }
      ]
    },
    {
      "cell_type": "markdown",
      "source": [
        "## Cronbach's $\\alpha$\n",
        "\n",
        "Luckily, people have written functions to make this a little more convenient for us. Thanks to the `psych` package, *calculating* Cronbach's $\\alpha$ is simple. We shall use the `alpha()` function on our dataset.\n",
        "\n",
        "**Note: Do not include the total score in our data object for calculating $\\alpha$. If necessary, use the `select()` function and the minus (i.e., `-`) symbol to remove that column from our data**."
      ],
      "metadata": {
        "id": "-vS70VoHC1te"
      }
    },
    {
      "cell_type": "code",
      "source": [
        "## Use the alpha function\n",
        "alpha(AgreeItems)"
      ],
      "metadata": {
        "colab": {
          "base_uri": "https://localhost:8080/",
          "height": 624
        },
        "id": "wJoJLUkTDwwx",
        "outputId": "89c875d4-b2d7-4cd6-8e82-e7f7abf6b94f"
      },
      "execution_count": 40,
      "outputs": [
        {
          "output_type": "display_data",
          "data": {
            "text/plain": [
              "\n",
              "Reliability analysis   \n",
              "Call: alpha(x = AgreeItems)\n",
              "\n",
              "  raw_alpha std.alpha G6(smc) average_r S/N   ase mean  sd median_r\n",
              "       0.7      0.71    0.68      0.33 2.5 0.009  4.7 0.9     0.34\n",
              "\n",
              "    95% confidence boundaries \n",
              "         lower alpha upper\n",
              "Feldt     0.69   0.7  0.72\n",
              "Duhachek  0.69   0.7  0.72\n",
              "\n",
              " Reliability if an item is dropped:\n",
              "   raw_alpha std.alpha G6(smc) average_r S/N alpha se  var.r med.r\n",
              "A1      0.72      0.72    0.67      0.40 2.6   0.0087 0.0065  0.38\n",
              "A2      0.62      0.63    0.58      0.29 1.7   0.0119 0.0168  0.29\n",
              "A3      0.60      0.61    0.56      0.28 1.6   0.0124 0.0094  0.32\n",
              "A4      0.69      0.69    0.65      0.36 2.3   0.0098 0.0157  0.37\n",
              "A5      0.64      0.66    0.60      0.32 1.9   0.0111 0.0125  0.34\n",
              "\n",
              " Item statistics \n",
              "      n raw.r std.r r.cor r.drop mean  sd\n",
              "A1 2784  0.58  0.57  0.38   0.31  4.6 1.4\n",
              "A2 2773  0.73  0.75  0.67   0.56  4.8 1.2\n",
              "A3 2774  0.76  0.77  0.71   0.59  4.6 1.3\n",
              "A4 2781  0.65  0.63  0.47   0.39  4.7 1.5\n",
              "A5 2784  0.69  0.70  0.59   0.49  4.6 1.3\n",
              "\n",
              "Non missing response frequency for each item\n",
              "      1    2    3    4    5    6 miss\n",
              "A1 0.03 0.08 0.12 0.14 0.29 0.33 0.01\n",
              "A2 0.02 0.05 0.05 0.20 0.37 0.31 0.01\n",
              "A3 0.03 0.06 0.07 0.20 0.36 0.27 0.01\n",
              "A4 0.05 0.08 0.07 0.16 0.24 0.41 0.01\n",
              "A5 0.02 0.07 0.09 0.22 0.35 0.25 0.01"
            ]
          },
          "metadata": {}
        }
      ]
    },
    {
      "cell_type": "markdown",
      "source": [
        "## Understanding the output from `alpha()`\n",
        "\n",
        "There is a ton of output here. There are two major parts of this output to focus on:\n",
        "\n",
        "1) We are using the standardized version of alpha. Under the call (i.e., the code we executed), there is a row with the second value labelled `std.alpha`. This is our standardized alpha. Note that 0.71 is the exact same value we calculated by hand!\n",
        "\n",
        "2) There is a table of output labelled `Reliability if an item is dropped:`. The 2nd column is `std.alpha`, which is again the standardized version of $\\alpha$ that we will examine. These values represent the new reliability if we drop an individual item.\n",
        "\n",
        "## Interpreting the $\\alpha$ output\n",
        "\n",
        "We can see that dropping item `A1` is the only one that *increases* our reliability. In a vacuum, all else being equal, dropping an item to maintain our reliability is a good thing. That makes it a shorter survey, which can be ideal for humans to respond to.\n",
        "\n",
        "That being said, we still want to cover the whole construct space. If item A1 is an important and unique element of the agreeableness construct domain that is not represented by other items, *you should keep it*. Going from 5 items and a reliability of .71 to 4 items with a reliability of .72 is such a small benefit that the increased content validity of the 5-item scale is actually preferrable."
      ],
      "metadata": {
        "id": "mGl0bgdFV-cQ"
      }
    },
    {
      "cell_type": "code",
      "source": [
        "## Store all alpha output into an object\n",
        "AlphaOutput <- alpha(AgreeItems)\n",
        "\n",
        "## Simplify the output to only show scale-level reliability\n",
        "summary(AlphaOutput)"
      ],
      "metadata": {
        "colab": {
          "base_uri": "https://localhost:8080/"
        },
        "id": "AEUNNQA7X0eB",
        "outputId": "c78878b0-002d-4875-d93f-0a51c82e9c9e"
      },
      "execution_count": 43,
      "outputs": [
        {
          "output_type": "stream",
          "name": "stdout",
          "text": [
            "\n",
            "Reliability analysis   \n",
            " raw_alpha std.alpha G6(smc) average_r S/N   ase mean  sd median_r\n",
            "       0.7      0.71    0.68      0.33 2.5 0.009  4.7 0.9     0.34\n"
          ]
        }
      ]
    },
    {
      "cell_type": "code",
      "source": [
        "## Simplify the output to only show dropping items\n",
        "AlphaOutput$alpha.drop %>%\n",
        "  select(std.alpha) %>%\n",
        "  round(3)"
      ],
      "metadata": {
        "colab": {
          "base_uri": "https://localhost:8080/",
          "height": 272
        },
        "id": "JV4f9KayYRBA",
        "outputId": "8c7eca28-c44e-4d3b-8066-7abe348245aa"
      },
      "execution_count": 46,
      "outputs": [
        {
          "output_type": "display_data",
          "data": {
            "text/html": [
              "<table class=\"dataframe\">\n",
              "<caption>A data.frame: 5 × 1</caption>\n",
              "<thead>\n",
              "\t<tr><th></th><th scope=col>std.alpha</th></tr>\n",
              "\t<tr><th></th><th scope=col>&lt;dbl&gt;</th></tr>\n",
              "</thead>\n",
              "<tbody>\n",
              "\t<tr><th scope=row>A1</th><td>0.725</td></tr>\n",
              "\t<tr><th scope=row>A2</th><td>0.625</td></tr>\n",
              "\t<tr><th scope=row>A3</th><td>0.613</td></tr>\n",
              "\t<tr><th scope=row>A4</th><td>0.693</td></tr>\n",
              "\t<tr><th scope=row>A5</th><td>0.655</td></tr>\n",
              "</tbody>\n",
              "</table>\n"
            ],
            "text/markdown": "\nA data.frame: 5 × 1\n\n| <!--/--> | std.alpha &lt;dbl&gt; |\n|---|---|\n| A1 | 0.725 |\n| A2 | 0.625 |\n| A3 | 0.613 |\n| A4 | 0.693 |\n| A5 | 0.655 |\n\n",
            "text/latex": "A data.frame: 5 × 1\n\\begin{tabular}{r|l}\n  & std.alpha\\\\\n  & <dbl>\\\\\n\\hline\n\tA1 & 0.725\\\\\n\tA2 & 0.625\\\\\n\tA3 & 0.613\\\\\n\tA4 & 0.693\\\\\n\tA5 & 0.655\\\\\n\\end{tabular}\n",
            "text/plain": [
              "   std.alpha\n",
              "A1 0.725    \n",
              "A2 0.625    \n",
              "A3 0.613    \n",
              "A4 0.693    \n",
              "A5 0.655    "
            ]
          },
          "metadata": {}
        }
      ]
    }
  ]
}