{
  "nbformat": 4,
  "nbformat_minor": 0,
  "metadata": {
    "colab": {
      "provenance": []
    },
    "kernelspec": {
      "name": "python3",
      "display_name": "Python 3"
    },
    "language_info": {
      "name": "python"
    }
  },
  "cells": [
    {
      "cell_type": "markdown",
      "source": [
        "# Exploratory Factor Analysis in *Your* Assessments\n",
        "\n",
        "This assignment is a continuation of our previous assignment. Instead of using simulated data, we shall investigate the latent structures of our own psychometric assessments!\n",
        "\n",
        "## Learning objectives\n",
        "\n",
        "By the completion of this assignment, you should be able to:\n",
        "\n",
        "\n",
        "\n",
        "*   Identify and justify the number of latent factors in a dataset using scree plots and parallel analyses\n",
        "\n",
        "*   Conduct exploratory factor analysis on a dataset\n",
        "\n",
        "* Interpret factor loadings, including identifying weak items and cross-loadings\n",
        "\n",
        "* Evaluate the internal (latent factor) structure and construct validity of our assessments\n"
      ],
      "metadata": {
        "id": "AYeTah2W5fZf"
      }
    },
    {
      "cell_type": "markdown",
      "source": [
        "## Load packages\n",
        "\n",
        "As usual, we will need to install the `psych` package then load the `psych` and `tidyverse` packages."
      ],
      "metadata": {
        "id": "TPBUcEFl5wzd"
      }
    },
    {
      "cell_type": "code",
      "execution_count": null,
      "metadata": {
        "id": "M2Fi3slt5b4L"
      },
      "outputs": [],
      "source": [
        "## Install psych\n",
        "install.packages(\"psych\")"
      ]
    },
    {
      "cell_type": "code",
      "source": [
        "## Load packages\n",
        "library(tidyverse)\n",
        "library(psych)"
      ],
      "metadata": {
        "id": "2ufl98Lj51b9"
      },
      "execution_count": null,
      "outputs": []
    },
    {
      "cell_type": "markdown",
      "source": [
        "## Load the data\n",
        "\n",
        "Remember, each group was given a unique identifier for their items. This identifier will be how we specifically extract *your* group's data (i.e., items). This first chunk will load all of the data from our class survey.\n",
        "\n",
        "**Data Structure**\n",
        "- These data are in \"wide\" format wherein each respondent is placed on a row and their columns represent responses to each question/variable.\n",
        "\n",
        "- All items have been recoded into numeric values for you. The lowest response option (e.g., \"Strongly disagree\") was converted to a 1 and the highest (e.g., \"Strongly agree\") to the highest value (e.g., 5 or 7).\n",
        "\n",
        "- Columns represent individual items/variables."
      ],
      "metadata": {
        "id": "R2QUslbC53k9"
      }
    },
    {
      "cell_type": "code",
      "source": [
        "## Load data\n",
        "## Set the URL to Casey's GitHub page where the dataset is located\n",
        "FileURL <- \"https://raw.githubusercontent.com/CaseyGio/Psyc6263/refs/heads/main/Datasets/QualtricsData.csv\"\n",
        "\n",
        "## Read the csv file from GitHub and create a new object\n",
        "QualtricsData <- read_csv(url(FileURL))\n",
        "\n",
        "## View the first few rows of data\n",
        "QualtricsData %>% head(n = 10)"
      ],
      "metadata": {
        "id": "SHmrv6GE53Sm"
      },
      "execution_count": null,
      "outputs": []
    },
    {
      "cell_type": "markdown",
      "source": [
        "## 1) Review: Which items were previously identified as *potentially problematic*?\n",
        "\n",
        "We have done several rounds of analyses on this dataset by now. Please draw upon past submissions (i.e., look back at your previous work) to remind us which items, across analyses, were identified as potentially problematic.\n",
        "\n",
        "1a) Which items from the item-analyses (i.e., descriptive stats, item difficulty/discrimination) were identified as potentially problematic?\n",
        "\n",
        "1b) Which items from the reliability analyses were identified as potentially problematic?"
      ],
      "metadata": {
        "id": "51j2Pj_16aid"
      }
    },
    {
      "cell_type": "markdown",
      "source": [
        "[You may edit this textbox to include your answers here]"
      ],
      "metadata": {
        "id": "FmSNLSQ670Cm"
      }
    },
    {
      "cell_type": "markdown",
      "source": [
        "## 2) Create a correlation matrix (without a total score)\n",
        "\n",
        "Exploratory factor analyses rely on correlation matrices. We do not want to include a total/overall score in our correlation matrix because that is not an observed item we collected.\n",
        "\n",
        "Create an object to store your correlation matrix"
      ],
      "metadata": {
        "id": "CEu6fmRv73yt"
      }
    },
    {
      "cell_type": "code",
      "source": [
        "## Create correlation matrix\n"
      ],
      "metadata": {
        "id": "D0Pv7htZ8g2V"
      },
      "execution_count": null,
      "outputs": []
    },
    {
      "cell_type": "markdown",
      "source": [
        "## 3) Create a Scree Plot\n",
        "\n",
        "The first method to determining the number of latent factors we'll explore is the scree plot."
      ],
      "metadata": {
        "id": "SnhuQnc88icF"
      }
    },
    {
      "cell_type": "code",
      "source": [
        "## Create the scree plot\n"
      ],
      "metadata": {
        "id": "_jm4oPxN8rN9"
      },
      "execution_count": null,
      "outputs": []
    },
    {
      "cell_type": "markdown",
      "source": [
        "## 4) Conduct parallel analysis\n",
        "\n",
        "The second method will be the parallel analyses. Use the `fa.parallel()` function from the `psych` package. Remember to examine the FA Actual and FA Simulated data, **not** the PC Actual/Simulated."
      ],
      "metadata": {
        "id": "uxeHvSn38tJl"
      }
    },
    {
      "cell_type": "code",
      "source": [
        "## Condcut parallel analysis\n"
      ],
      "metadata": {
        "id": "ddb5mSyW8svF"
      },
      "execution_count": null,
      "outputs": []
    },
    {
      "cell_type": "markdown",
      "source": [
        "## 5) Determine the number of factors\n",
        "\n",
        "Based on both methods above, determine how many factors we should retain in our dataset. Briefly defend your stance."
      ],
      "metadata": {
        "id": "RuwObnOX8zb2"
      }
    },
    {
      "cell_type": "markdown",
      "source": [
        "[You may edit this text box for your answer]"
      ],
      "metadata": {
        "id": "6_27JnCZ86sF"
      }
    },
    {
      "cell_type": "markdown",
      "source": [
        "## 6) Conduct exploratory factor analysis\n",
        "\n",
        "Using the `fa()` function from the `psych` package, conduct exploratory factor analysis. Remember to specify the following arguments:\n",
        "*   `nfactors`: Set this argument to the number of factors identified above.\n",
        "*   `rotate`: *If we need a factor rotation*, start with an oblique rotation, such as \"oblimin\" or \"geominQ\".\n",
        "*   `fm`: Set the factor method to \"ols\"\n",
        "\n",
        "Please print out the factor **loadings** and, if we applied a factor rotation, the factor correlation matrix (the Phi matrix, see the demonstration)."
      ],
      "metadata": {
        "id": "t03JnJRz89m2"
      }
    },
    {
      "cell_type": "code",
      "source": [
        "## Conduct EFA\n"
      ],
      "metadata": {
        "id": "GmAjKICN9CKu"
      },
      "execution_count": null,
      "outputs": []
    },
    {
      "cell_type": "markdown",
      "source": [
        "## 7) Interpret our results\n",
        "\n",
        "Based on our all of our factor analysis results, interpret your results by answering the following prompts:\n",
        "\n",
        "* How many latent factors were found? If multiple factors were found, was the factor correlation sufficiently large to suggest that an oblique rotation was necessary?\n",
        "\n",
        "* Which factor(s) are each item best representing? Stated differently, what factor has the largest factor loading for each item?\n",
        "\n",
        "* Are there any items that are \"bad\" (e.g., weak primary factor loading and/or cross-loadings)? If so, which items and briefly state how they are \"bad.\""
      ],
      "metadata": {
        "id": "xAEITmp59DfF"
      }
    },
    {
      "cell_type": "markdown",
      "source": [
        "[You may edit this textbox to answer the prompts]"
      ],
      "metadata": {
        "id": "bCN6ZnLf9Ld1"
      }
    }
  ]
}