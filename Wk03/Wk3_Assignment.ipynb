{
  "nbformat": 4,
  "nbformat_minor": 0,
  "metadata": {
    "colab": {
      "provenance": []
    },
    "kernelspec": {
      "name": "ir",
      "display_name": "R"
    },
    "language_info": {
      "name": "R"
    }
  },
  "cells": [
    {
      "cell_type": "markdown",
      "source": [
        "## Loading packages\n",
        "\n",
        "## 1) In separate chunks of code, (a) install the `psych` package and (b) load the `psych` and `tidyverse` packages.\n",
        "\n",
        "Let's first install the `psych` package.\n",
        "\n",
        "Then, in a separate chunk of code, load the `tidyverse` and `psych` packages."
      ],
      "metadata": {
        "id": "745uiyBKhM2i"
      }
    },
    {
      "cell_type": "code",
      "source": [
        "## Install package\n"
      ],
      "metadata": {
        "id": "Nyd_6yRhhX6V"
      },
      "execution_count": null,
      "outputs": []
    },
    {
      "cell_type": "code",
      "source": [
        "## Load packages\n"
      ],
      "metadata": {
        "id": "nW12qwt1hZr9"
      },
      "execution_count": null,
      "outputs": []
    },
    {
      "cell_type": "markdown",
      "source": [
        "## Loading the data\n",
        "\n",
        "**Construct Definition: Anxiety**\n",
        "\n",
        "Anxiety is a psychological state characterized by excessive worry, heightened arousal, and physiological tension in response to real or perceived stressors. It may include cognitive, emotional, and somatic symptoms that interfere with functioning across contexts (American Psychiatric Association, 2013; Spielberger, 1980).\n",
        "\n",
        "This scale measures general state anxiety, reflecting individuals' experience of worry, restlessness, and anticipatory tension in daily life.\n",
        "\n",
        "| Item Code | Item Text                                                      |\n",
        "| --------- | -------------------------------------------------------------- |\n",
        "| **ANX1**  | I often feel on edge, even when nothing is wrong.              |\n",
        "| **ANX2**  | I find myself worrying about things I can't control.           |\n",
        "| **ANX3**  | My thoughts race when I’m under pressure.                      |\n",
        "| **ANX4**  | I feel tense or jittery throughout the day.                    |\n",
        "| **ANX5**  | I have difficulty relaxing, even in calm environments.         |\n",
        "| **ANX6**  | I frequently anticipate the worst possible outcome.            |\n",
        "| **ANX7**  | I avoid situations that might make me anxious.   |\n",
        "| **ANX8**  | I struggle to focus because of anxious thoughts.               |\n",
        "| **ANX9**  | I feel overwhelmed by small tasks.                             |\n",
        "| **ANX10** | I rarely feel safe or at ease.              |\n",
        "\n",
        "**Response format:**\n",
        "\n",
        "All items are scored using the same response scale format.\n",
        "\n",
        "1. Strongly disagree\n",
        "2. Disagree\n",
        "3. Somewhat disagree\n",
        "4. Neither agree/disagree\n",
        "5. Somewhat agree\n",
        "6. Agree\n",
        "7. Strongly agree\n"
      ],
      "metadata": {
        "id": "SWH1_LKhlP7i"
      }
    },
    {
      "cell_type": "code",
      "source": [
        "## Load data\n",
        "## Set the URL to Casey's GitHub page where the dataset is located\n",
        "FileURL <- \"https://raw.githubusercontent.com/CaseyGio/Psyc6263/refs/heads/main/Datasets/Anxiety.csv\"\n",
        "\n",
        "## Read the csv file from GitHub and create a new object\n",
        "Anx <- read_csv(url(FileURL))\n",
        "\n",
        "## Check out the dataset\n",
        "head(Anx, n = 10)"
      ],
      "metadata": {
        "id": "FICGe-2VhzhL"
      },
      "execution_count": null,
      "outputs": []
    },
    {
      "cell_type": "markdown",
      "source": [
        "## Data cleaning\n",
        "\n",
        "In this section, we are going to create a new object (e.g., AnxClean) to store the results of our data cleaning.\n",
        "\n",
        "## 2) Select the Anxiety items\n",
        "\n",
        "Use the `select()` or related functions to select the items with the prefix \"ANX\". There are other items related to job satisfaction in this dataset. You can use the `starts_with()` function or some alternative code.\n",
        "\n",
        "## 3) Create a composite score (average) for the anxiety scale.\n",
        "\n",
        "Create a composite score, by taking the average of each person's responses. You may use the `rowMeans()` function like in the demonstration.\n",
        "\n",
        "You can pipe (e.g., `%>%`) this portion into the line of code as well."
      ],
      "metadata": {
        "id": "ouzbTIDqhzDt"
      }
    },
    {
      "cell_type": "code",
      "execution_count": null,
      "metadata": {
        "id": "EXXlu99VgMUz"
      },
      "outputs": [],
      "source": [
        "## Select the items with \"ANX\" as the column name prefix\n"
      ]
    },
    {
      "cell_type": "markdown",
      "source": [
        "## Descriptive statistics\n",
        "\n",
        "In this section, we want to calculate the descriptive statistics for each item. Particularly, we want to explore the mean, standard deviation, and the skew of each variable.\n",
        "\n",
        "## 4) Calculate the following descriptive statistics: (a) mean, (b) sd, and (c) skew"
      ],
      "metadata": {
        "id": "vZ3cueDqneM0"
      }
    },
    {
      "cell_type": "code",
      "source": [
        "## Compute descriptive statistics on each item/variable\n"
      ],
      "metadata": {
        "id": "IBFU6a4wiIbX"
      },
      "execution_count": null,
      "outputs": []
    },
    {
      "cell_type": "markdown",
      "source": [
        "We should also interpret our results, too.\n",
        "\n",
        "## 5) Based on the descriptive statistics, identify any potentially problematic items and describe *why* they are problematic\n",
        "\n",
        "[You can edit this textbox to put your answer here.]"
      ],
      "metadata": {
        "id": "5pGwKNWtoCsv"
      }
    },
    {
      "cell_type": "markdown",
      "source": [
        "## 6) Create a visualization to view the distribution of each item, including the total score\n",
        "\n",
        "It might help to use two chunks of code, one to reshape the data and another that actually creates the visualization. Remember, if you get caught up, check out the demonstration and even open the Gemini chatbot to get some assistance. It also helps to view the re-shaped data before creating the visualization to ensure that you did it correctly."
      ],
      "metadata": {
        "id": "6-VVJ0vYoK8x"
      }
    },
    {
      "cell_type": "code",
      "source": [
        "## Reshape from wide to long format\n"
      ],
      "metadata": {
        "id": "8YmXE6TJiLnd"
      },
      "execution_count": null,
      "outputs": []
    },
    {
      "cell_type": "code",
      "source": [
        "## Create a plot to display item distributions\n"
      ],
      "metadata": {
        "id": "7Er1d_3diQXU"
      },
      "execution_count": null,
      "outputs": []
    },
    {
      "cell_type": "markdown",
      "source": [
        "## 7) Based on the visualizations, are there any items that appear potentially problematic? Which ones and *why* do you think so?\n",
        "\n",
        "[You can edit this textbox to write your answers.]"
      ],
      "metadata": {
        "id": "oeMrXZ3lpgwb"
      }
    },
    {
      "cell_type": "markdown",
      "source": [
        "## 8) Calculate the correlation matrix of the anxiety items.\n",
        "\n",
        "This is a large 11 by 11 matrix, it may help to round the output so that you can easily view the correlation coefficients."
      ],
      "metadata": {
        "id": "blowjY9wpsl4"
      }
    },
    {
      "cell_type": "code",
      "source": [
        "## Create correlation matrix\n"
      ],
      "metadata": {
        "colab": {
          "base_uri": "https://localhost:8080/",
          "height": 411
        },
        "id": "1c-lzTi-iSAn",
        "outputId": "100180e1-d63c-4be5-967e-d18ecc3664ef"
      },
      "execution_count": 19,
      "outputs": [
        {
          "output_type": "display_data",
          "data": {
            "text/html": [
              "<table class=\"dataframe\">\n",
              "<caption>A matrix: 11 × 11 of type dbl</caption>\n",
              "<thead>\n",
              "\t<tr><th></th><th scope=col>ANX1</th><th scope=col>ANX2</th><th scope=col>ANX3</th><th scope=col>ANX4</th><th scope=col>ANX5</th><th scope=col>ANX6</th><th scope=col>ANX7</th><th scope=col>ANX8</th><th scope=col>ANX9</th><th scope=col>ANX10</th><th scope=col>AnxTotal</th></tr>\n",
              "</thead>\n",
              "<tbody>\n",
              "\t<tr><th scope=row>ANX1</th><td> 1.00</td><td>-0.16</td><td> 0.03</td><td> 0.00</td><td> 0.09</td><td> 0.07</td><td> 0.09</td><td>-0.15</td><td>-0.12</td><td>-0.03</td><td> 0.25</td></tr>\n",
              "\t<tr><th scope=row>ANX2</th><td>-0.16</td><td> 1.00</td><td> 0.05</td><td>-0.18</td><td> 0.08</td><td>-0.03</td><td>-0.02</td><td>-0.05</td><td>-0.15</td><td> 0.00</td><td> 0.19</td></tr>\n",
              "\t<tr><th scope=row>ANX3</th><td> 0.03</td><td> 0.05</td><td> 1.00</td><td> 0.06</td><td> 0.09</td><td> 0.02</td><td> 0.16</td><td>-0.04</td><td>-0.19</td><td>-0.03</td><td> 0.37</td></tr>\n",
              "\t<tr><th scope=row>ANX4</th><td> 0.00</td><td>-0.18</td><td> 0.06</td><td> 1.00</td><td>-0.03</td><td>-0.04</td><td> 0.04</td><td> 0.04</td><td> 0.12</td><td> 0.07</td><td> 0.32</td></tr>\n",
              "\t<tr><th scope=row>ANX5</th><td> 0.09</td><td> 0.08</td><td> 0.09</td><td>-0.03</td><td> 1.00</td><td> 0.08</td><td> 0.18</td><td> 0.03</td><td>-0.14</td><td> 0.08</td><td> 0.47</td></tr>\n",
              "\t<tr><th scope=row>ANX6</th><td> 0.07</td><td>-0.03</td><td> 0.02</td><td>-0.04</td><td> 0.08</td><td> 1.00</td><td> 0.09</td><td> 0.02</td><td> 0.07</td><td>-0.04</td><td> 0.39</td></tr>\n",
              "\t<tr><th scope=row>ANX7</th><td> 0.09</td><td>-0.02</td><td> 0.16</td><td> 0.04</td><td> 0.18</td><td> 0.09</td><td> 1.00</td><td> 0.11</td><td> 0.02</td><td>-0.27</td><td> 0.51</td></tr>\n",
              "\t<tr><th scope=row>ANX8</th><td>-0.15</td><td>-0.05</td><td>-0.04</td><td> 0.04</td><td> 0.03</td><td> 0.02</td><td> 0.11</td><td> 1.00</td><td> 0.06</td><td>-0.13</td><td> 0.33</td></tr>\n",
              "\t<tr><th scope=row>ANX9</th><td>-0.12</td><td>-0.15</td><td>-0.19</td><td> 0.12</td><td>-0.14</td><td> 0.07</td><td> 0.02</td><td> 0.06</td><td> 1.00</td><td>-0.14</td><td> 0.23</td></tr>\n",
              "\t<tr><th scope=row>ANX10</th><td>-0.03</td><td> 0.00</td><td>-0.03</td><td> 0.07</td><td> 0.08</td><td>-0.04</td><td>-0.27</td><td>-0.13</td><td>-0.14</td><td> 1.00</td><td>-0.03</td></tr>\n",
              "\t<tr><th scope=row>AnxTotal</th><td> 0.25</td><td> 0.19</td><td> 0.37</td><td> 0.32</td><td> 0.47</td><td> 0.39</td><td> 0.51</td><td> 0.33</td><td> 0.23</td><td>-0.03</td><td> 1.00</td></tr>\n",
              "</tbody>\n",
              "</table>\n"
            ],
            "text/markdown": "\nA matrix: 11 × 11 of type dbl\n\n| <!--/--> | ANX1 | ANX2 | ANX3 | ANX4 | ANX5 | ANX6 | ANX7 | ANX8 | ANX9 | ANX10 | AnxTotal |\n|---|---|---|---|---|---|---|---|---|---|---|---|\n| ANX1 |  1.00 | -0.16 |  0.03 |  0.00 |  0.09 |  0.07 |  0.09 | -0.15 | -0.12 | -0.03 |  0.25 |\n| ANX2 | -0.16 |  1.00 |  0.05 | -0.18 |  0.08 | -0.03 | -0.02 | -0.05 | -0.15 |  0.00 |  0.19 |\n| ANX3 |  0.03 |  0.05 |  1.00 |  0.06 |  0.09 |  0.02 |  0.16 | -0.04 | -0.19 | -0.03 |  0.37 |\n| ANX4 |  0.00 | -0.18 |  0.06 |  1.00 | -0.03 | -0.04 |  0.04 |  0.04 |  0.12 |  0.07 |  0.32 |\n| ANX5 |  0.09 |  0.08 |  0.09 | -0.03 |  1.00 |  0.08 |  0.18 |  0.03 | -0.14 |  0.08 |  0.47 |\n| ANX6 |  0.07 | -0.03 |  0.02 | -0.04 |  0.08 |  1.00 |  0.09 |  0.02 |  0.07 | -0.04 |  0.39 |\n| ANX7 |  0.09 | -0.02 |  0.16 |  0.04 |  0.18 |  0.09 |  1.00 |  0.11 |  0.02 | -0.27 |  0.51 |\n| ANX8 | -0.15 | -0.05 | -0.04 |  0.04 |  0.03 |  0.02 |  0.11 |  1.00 |  0.06 | -0.13 |  0.33 |\n| ANX9 | -0.12 | -0.15 | -0.19 |  0.12 | -0.14 |  0.07 |  0.02 |  0.06 |  1.00 | -0.14 |  0.23 |\n| ANX10 | -0.03 |  0.00 | -0.03 |  0.07 |  0.08 | -0.04 | -0.27 | -0.13 | -0.14 |  1.00 | -0.03 |\n| AnxTotal |  0.25 |  0.19 |  0.37 |  0.32 |  0.47 |  0.39 |  0.51 |  0.33 |  0.23 | -0.03 |  1.00 |\n\n",
            "text/latex": "A matrix: 11 × 11 of type dbl\n\\begin{tabular}{r|lllllllllll}\n  & ANX1 & ANX2 & ANX3 & ANX4 & ANX5 & ANX6 & ANX7 & ANX8 & ANX9 & ANX10 & AnxTotal\\\\\n\\hline\n\tANX1 &  1.00 & -0.16 &  0.03 &  0.00 &  0.09 &  0.07 &  0.09 & -0.15 & -0.12 & -0.03 &  0.25\\\\\n\tANX2 & -0.16 &  1.00 &  0.05 & -0.18 &  0.08 & -0.03 & -0.02 & -0.05 & -0.15 &  0.00 &  0.19\\\\\n\tANX3 &  0.03 &  0.05 &  1.00 &  0.06 &  0.09 &  0.02 &  0.16 & -0.04 & -0.19 & -0.03 &  0.37\\\\\n\tANX4 &  0.00 & -0.18 &  0.06 &  1.00 & -0.03 & -0.04 &  0.04 &  0.04 &  0.12 &  0.07 &  0.32\\\\\n\tANX5 &  0.09 &  0.08 &  0.09 & -0.03 &  1.00 &  0.08 &  0.18 &  0.03 & -0.14 &  0.08 &  0.47\\\\\n\tANX6 &  0.07 & -0.03 &  0.02 & -0.04 &  0.08 &  1.00 &  0.09 &  0.02 &  0.07 & -0.04 &  0.39\\\\\n\tANX7 &  0.09 & -0.02 &  0.16 &  0.04 &  0.18 &  0.09 &  1.00 &  0.11 &  0.02 & -0.27 &  0.51\\\\\n\tANX8 & -0.15 & -0.05 & -0.04 &  0.04 &  0.03 &  0.02 &  0.11 &  1.00 &  0.06 & -0.13 &  0.33\\\\\n\tANX9 & -0.12 & -0.15 & -0.19 &  0.12 & -0.14 &  0.07 &  0.02 &  0.06 &  1.00 & -0.14 &  0.23\\\\\n\tANX10 & -0.03 &  0.00 & -0.03 &  0.07 &  0.08 & -0.04 & -0.27 & -0.13 & -0.14 &  1.00 & -0.03\\\\\n\tAnxTotal &  0.25 &  0.19 &  0.37 &  0.32 &  0.47 &  0.39 &  0.51 &  0.33 &  0.23 & -0.03 &  1.00\\\\\n\\end{tabular}\n",
            "text/plain": [
              "         ANX1  ANX2  ANX3  ANX4  ANX5  ANX6  ANX7  ANX8  ANX9  ANX10 AnxTotal\n",
              "ANX1      1.00 -0.16  0.03  0.00  0.09  0.07  0.09 -0.15 -0.12 -0.03  0.25   \n",
              "ANX2     -0.16  1.00  0.05 -0.18  0.08 -0.03 -0.02 -0.05 -0.15  0.00  0.19   \n",
              "ANX3      0.03  0.05  1.00  0.06  0.09  0.02  0.16 -0.04 -0.19 -0.03  0.37   \n",
              "ANX4      0.00 -0.18  0.06  1.00 -0.03 -0.04  0.04  0.04  0.12  0.07  0.32   \n",
              "ANX5      0.09  0.08  0.09 -0.03  1.00  0.08  0.18  0.03 -0.14  0.08  0.47   \n",
              "ANX6      0.07 -0.03  0.02 -0.04  0.08  1.00  0.09  0.02  0.07 -0.04  0.39   \n",
              "ANX7      0.09 -0.02  0.16  0.04  0.18  0.09  1.00  0.11  0.02 -0.27  0.51   \n",
              "ANX8     -0.15 -0.05 -0.04  0.04  0.03  0.02  0.11  1.00  0.06 -0.13  0.33   \n",
              "ANX9     -0.12 -0.15 -0.19  0.12 -0.14  0.07  0.02  0.06  1.00 -0.14  0.23   \n",
              "ANX10    -0.03  0.00 -0.03  0.07  0.08 -0.04 -0.27 -0.13 -0.14  1.00 -0.03   \n",
              "AnxTotal  0.25  0.19  0.37  0.32  0.47  0.39  0.51  0.33  0.23 -0.03  1.00   "
            ]
          },
          "metadata": {}
        }
      ]
    },
    {
      "cell_type": "markdown",
      "source": [
        "## 9) Based on the correlation matrix, are there any potentially problematic items? If so, *why* do you say that?\n",
        "\n",
        "This is subjective and can be relatively difficult to discern what \"problematic\" means. Focus on the correlation of each item with the total score.\n",
        "\n",
        "[You can edit this textbox to include your answer.]"
      ],
      "metadata": {
        "id": "z50iPmGIp-nE"
      }
    }
  ]
}